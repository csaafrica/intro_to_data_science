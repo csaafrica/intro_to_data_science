{
 "cells": [
  {
   "cell_type": "markdown",
   "id": "6b1e2179",
   "metadata": {},
   "source": [
    "\n",
    "# Day 3: Data Visualization with Matplotlib and Seaborn\n",
    "\n",
    "**Prepared By:** Dr. Kenechi Omeke  \n",
    "**Date:** November 2024  \n",
    "\n",
    "---\n",
    "\n",
    "## Aim\n",
    "Teach students how to visualize data effectively using popular Python libraries.\n",
    "\n",
    "## Intended Learning Outcomes\n",
    "- Create basic and advanced plots using Matplotlib and Seaborn.\n",
    "- Interpret data visualizations to extract insights.\n",
    "- Customize and style plots for clarity and impact.\n",
    "\n",
    "## Topics Covered\n",
    "- Introduction to Data Visualization\n",
    "- Matplotlib Basics (with code examples)\n",
    "- Seaborn for Statistical Visualization (with code examples)\n",
    "- Customizing and Styling Plots\n",
    "- Mini-Project: Visualizing Real Data\n",
    "\n",
    "---\n",
    "\n",
    "## 1. Why Visualize Data?\n",
    "- Spot trends, patterns, and outliers\n",
    "- Communicate findings clearly\n",
    "- Make data-driven decisions\n",
    "\n",
    "**Common plot types:** line, bar, scatter, histogram, box, heatmap\n",
    "\n",
    "---\n",
    "\n",
    "## 2. Matplotlib Basics\n",
    "Matplotlib is the foundation of Python plotting. Let's start with the essentials."
   ]
  },
  {
   "cell_type": "code",
   "execution_count": null,
   "id": "b6c2a049",
   "metadata": {},
   "outputs": [],
   "source": [
    "import matplotlib.pyplot as plt\n",
    "\n",
    "# Line plot\n",
    "x = [1, 2, 3, 4, 5]\n",
    "y = [10, 15, 13, 20, 18]\n",
    "plt.plot(x, y)\n",
    "plt.title('Basic Line Plot')\n",
    "plt.xlabel('X-axis')\n",
    "plt.ylabel('Y-axis')\n",
    "plt.show()"
   ]
  },
  {
   "cell_type": "code",
   "execution_count": null,
   "id": "63eafc8a",
   "metadata": {},
   "outputs": [],
   "source": [
    "# Scatter plot\n",
    "x = [5, 7, 8, 7, 2, 17, 2, 9, 4, 11, 12, 9, 6]\n",
    "y = [99, 86, 87, 88, 100, 86, 103, 87, 94, 78, 77, 85, 86]\n",
    "plt.scatter(x, y)\n",
    "plt.title('Basic Scatter Plot')\n",
    "plt.xlabel('X-axis')\n",
    "plt.ylabel('Y-axis')\n",
    "plt.show()"
   ]
  },
  {
   "cell_type": "code",
   "execution_count": null,
   "id": "c9aab528",
   "metadata": {},
   "outputs": [],
   "source": [
    "# Bar plot\n",
    "categories = ['A', 'B', 'C', 'D']\n",
    "values = [5, 7, 3, 8]\n",
    "plt.bar(categories, values)\n",
    "plt.title('Basic Bar Plot')\n",
    "plt.xlabel('Categories')\n",
    "plt.ylabel('Values')\n",
    "plt.show()"
   ]
  },
  {
   "cell_type": "code",
   "execution_count": null,
   "id": "9bc6cb6c",
   "metadata": {},
   "outputs": [],
   "source": [
    "# Histogram\n",
    "import numpy as np\n",
    "data = np.random.normal(0, 1, 100)\n",
    "plt.hist(data, bins=10)\n",
    "plt.title('Histogram')\n",
    "plt.xlabel('Value')\n",
    "plt.ylabel('Frequency')\n",
    "plt.show()"
   ]
  },
  {
   "cell_type": "markdown",
   "id": "de74c456",
   "metadata": {},
   "source": [
    "\n",
    "## Exercise: Matplotlib Practice\n",
    "1. Create a list of 10 numbers and plot them as a line plot.\n",
    "2. Make a bar plot of your favorite fruits and their quantities."
   ]
  },
  {
   "cell_type": "markdown",
   "id": "13a50525",
   "metadata": {},
   "source": [
    "# 3. Seaborn for Statistical Visualization\n",
    "Seaborn builds on Matplotlib and makes beautiful, statistical plots easy."
   ]
  },
  {
   "cell_type": "code",
   "execution_count": null,
   "id": "d805f04c",
   "metadata": {},
   "outputs": [],
   "source": [
    "import seaborn as sns\n",
    "# Load a sample dataset\n",
    "df = sns.load_dataset('iris')\n",
    "# Box plot\n",
    "sns.boxplot(x='species', y='sepal_length', data=df)\n",
    "plt.title('Box Plot of Sepal Length by Species')\n",
    "plt.show()"
   ]
  },
  {
   "cell_type": "code",
   "execution_count": null,
   "id": "3a635aec",
   "metadata": {},
   "outputs": [],
   "source": [
    "# Histogram with KDE\n",
    "sns.histplot(df['sepal_length'], bins=10, kde=True)\n",
    "plt.title('Distribution of Sepal Length')\n",
    "plt.show()"
   ]
  },
  {
   "cell_type": "code",
   "execution_count": null,
   "id": "6bbda421",
   "metadata": {},
   "outputs": [],
   "source": [
    "# Scatter plot with grouping\n",
    "sns.scatterplot(x='sepal_length', y='sepal_width', hue='species', data=df)\n",
    "plt.title('Scatter Plot of Sepal Dimensions')\n",
    "plt.show()"
   ]
  },
  {
   "cell_type": "code",
   "execution_count": null,
   "id": "824e778e",
   "metadata": {},
   "outputs": [],
   "source": [
    "# Pair plot\n",
    "sns.pairplot(df, hue='species')\n",
    "plt.suptitle('Pair Plot of Iris Dataset', y=1.02)\n",
    "plt.show()"
   ]
  },
  {
   "cell_type": "markdown",
   "id": "5aca097a",
   "metadata": {},
   "source": [
    "\n",
    "## Exercise: Seaborn Practice\n",
    "1. Use the Titanic dataset (`sns.load_dataset('titanic')`) to make a box plot of age by class.\n",
    "2. Make a histogram of fare prices."
   ]
  },
  {
   "cell_type": "markdown",
   "id": "cf70f6ff",
   "metadata": {},
   "source": [
    "# 4. Customizing and Styling Plots\n",
    "- Add titles, labels, and legends\n",
    "- Change colors and styles\n",
    "- Use Seaborn themes and palettes"
   ]
  },
  {
   "cell_type": "code",
   "execution_count": null,
   "id": "88887746",
   "metadata": {},
   "outputs": [],
   "source": [
    "sns.set_style('whitegrid')\n",
    "sns.set_palette('coolwarm')\n",
    "sns.barplot(x='species', y='petal_length', data=df)\n",
    "plt.title('Styled Bar Plot')\n",
    "plt.show()"
   ]
  },
  {
   "cell_type": "markdown",
   "id": "5b137bdb",
   "metadata": {},
   "source": [
    "# 5. Mini-Project: Visualizing Real Data\n",
    "1. Load a dataset (Iris, Titanic, or your own CSV).\n",
    "2. Create at least three different plot types (line, bar, scatter, box, histogram, pair).\n",
    "3. Customize your plots for clarity.\n",
    "4. Write a short summary of insights from your visualizations."
   ]
  },
  {
   "cell_type": "markdown",
   "id": "daadffd3",
   "metadata": {},
   "source": [
    "## Reflection & Next Steps\n",
    "- Which plot type did you find most useful?\n",
    "- Try visualizing a dataset from your own field or interest.\n",
    "- Explore more in the Matplotlib and Seaborn documentation.\n",
    "\n",
    "---\n",
    "\n",
    "## References\n",
    "- [Matplotlib Documentation](https://matplotlib.org/stable/contents.html)\n",
    "- [Seaborn Documentation](https://seaborn.pydata.org/)"
   ]
  }
 ],
 "metadata": {
  "kernelspec": {
   "display_name": "Python 3 (ipykernel)",
   "language": "python",
   "name": "python3"
  },
  "language_info": {
   "codemirror_mode": {
    "name": "ipython",
    "version": 3
   },
   "file_extension": ".py",
   "mimetype": "text/x-python",
   "name": "python",
   "nbconvert_exporter": "python",
   "pygments_lexer": "ipython3",
   "version": "3.12.11"
  }
 },
 "nbformat": 4,
 "nbformat_minor": 5
}

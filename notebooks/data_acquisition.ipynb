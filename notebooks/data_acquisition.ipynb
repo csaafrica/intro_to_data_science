{
 "cells": [
  {
   "cell_type": "code",
   "execution_count": null,
   "id": "a07a769f-7d14-427d-a5a2-322a11a49c76",
   "metadata": {},
   "outputs": [],
   "source": [
    "# import  request and os \n",
    "\n",
    "import request  \n",
    "import os \n",
    "\n",
    "uri = http://api.openweathermap.org/geo/1.0/direct?q=London&limit=5&appid={API key}\n",
    "api_key= \n",
    "lat=\n",
    "log= \n",
    "city= \n",
    "params= {\n",
    "    \n",
    "}\n",
    "# send the get request  to the api to get the  geo data for Nairobi \n",
    "\n",
    "response= request.get(url, \n",
    "                      params=params\n",
    "                     )\n",
    "\n",
    "if response.status_code==200:\n",
    "    data=response.json()\n",
    "\n",
    "else:\n",
    "    print(\"Error\")\n",
    "\n",
    "\n"
   ]
  }
 ],
 "metadata": {
  "kernelspec": {
   "display_name": "Python 3 (ipykernel)",
   "language": "python",
   "name": "python3"
  },
  "language_info": {
   "codemirror_mode": {
    "name": "ipython",
    "version": 3
   },
   "file_extension": ".py",
   "mimetype": "text/x-python",
   "name": "python",
   "nbconvert_exporter": "python",
   "pygments_lexer": "ipython3",
   "version": "3.12.11"
  }
 },
 "nbformat": 4,
 "nbformat_minor": 5
}

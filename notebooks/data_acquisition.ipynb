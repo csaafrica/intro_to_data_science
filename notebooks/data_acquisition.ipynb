{
 "cells": [
  {
   "cell_type": "code",
   "execution_count": 1,
   "id": "6899b16a",
   "metadata": {},
   "outputs": [],
   "source": [
    "import os\n",
    "import requests"
   ]
  },
  {
   "cell_type": "code",
   "execution_count": 3,
   "id": "ecfa1d34",
   "metadata": {},
   "outputs": [],
   "source": [
    "# It is a best practice to store your API key in an environment variable\n",
    "# Replace 'your_api_key' with your actual key if not using environment variables\n",
    "api_key = \"488c72e690e78b8b3daa6d5cf1c335fb\"\n",
    "city = 'Nairobi'\n",
    "url = 'https://api.openweathermap.org/data/2.5/weather'\n",
    "\n",
    "# Parameters for the API request\n",
    "params = {\n",
    "    'q': city,          # The city name\n",
    "    'appid': api_key,   # Your API key\n",
    "    'units': 'metric',   # To get the temperature in Celsius\n",
    "    'exclude': 'hourly' # Exclude hourly data\n",
    "}\n",
    "\n",
    "# Send the GET request to the API\n",
    "response = requests.get(url, params=params)\n",
    "\n",
    "\n",
    "# Check the response status code to handle errors\n",
    "if response.status_code == 200:\n",
    "    # Parse the JSON response if the request was successful\n",
    "    weather_data = response.json()\n",
    "    \n",
    "else:\n",
    "    # Print an error if the request failed\n",
    "    print(f'Error: {response.status_code}')"
   ]
  },
  {
   "cell_type": "code",
   "execution_count": 4,
   "id": "f1320ed7",
   "metadata": {},
   "outputs": [
    {
     "data": {
      "text/plain": [
       "{'coord': {'lon': 36.8167, 'lat': -1.2833},\n",
       " 'weather': [{'id': 803,\n",
       "   'main': 'Clouds',\n",
       "   'description': 'broken clouds',\n",
       "   'icon': '04d'}],\n",
       " 'base': 'stations',\n",
       " 'main': {'temp': 23.93,\n",
       "  'feels_like': 23.58,\n",
       "  'temp_min': 23.93,\n",
       "  'temp_max': 23.93,\n",
       "  'pressure': 1013,\n",
       "  'humidity': 46,\n",
       "  'sea_level': 1013,\n",
       "  'grnd_level': 839},\n",
       " 'visibility': 10000,\n",
       " 'wind': {'speed': 2.05, 'deg': 171, 'gust': 2.33},\n",
       " 'clouds': {'all': 84},\n",
       " 'dt': 1753090442,\n",
       " 'sys': {'country': 'KE', 'sunrise': 1753069039, 'sunset': 1753112435},\n",
       " 'timezone': 10800,\n",
       " 'id': 184745,\n",
       " 'name': 'Nairobi',\n",
       " 'cod': 200}"
      ]
     },
     "execution_count": 4,
     "metadata": {},
     "output_type": "execute_result"
    }
   ],
   "source": [
    "weather_data"
   ]
  },
  {
   "cell_type": "code",
   "execution_count": null,
   "id": "25175239",
   "metadata": {},
   "outputs": [],
   "source": []
  },
  {
   "cell_type": "code",
   "execution_count": null,
   "id": "6c7e725f",
   "metadata": {},
   "outputs": [],
   "source": []
  }
 ],
 "metadata": {
  "kernelspec": {
   "display_name": "Python 3 (ipykernel)",
   "language": "python",
   "name": "python3"
  },
  "language_info": {
   "codemirror_mode": {
    "name": "ipython",
    "version": 3
   },
   "file_extension": ".py",
   "mimetype": "text/x-python",
   "name": "python",
   "nbconvert_exporter": "python",
   "pygments_lexer": "ipython3",
   "version": "3.11.5"
  }
 },
 "nbformat": 4,
 "nbformat_minor": 5
}

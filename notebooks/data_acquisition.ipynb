{
 "cells": [
  {
   "cell_type": "code",
   "execution_count": 43,
   "id": "6899b16a",
   "metadata": {},
   "outputs": [],
   "source": [
    "import os\n",
    "import requests\n",
    "import pandas as pd"
   ]
  },
  {
   "cell_type": "code",
   "execution_count": 44,
   "id": "25175239",
   "metadata": {},
   "outputs": [],
   "source": [
    "def get_weather (city:str)-> dict|str:\n",
    "    \"\"\"\n",
    "    Fetches weather data for the given city using the openweathermap API \n",
    "    -city_name (str): Name of the city (e.g:  Nairobi, New York)\n",
    "    -api_key (str): The open weather map api key\n",
    "    Parameters:\n",
    "    Returns:\n",
    "    -dict\n",
    "    \"\"\"\n",
    "    api_key = \"488c72e690e78b8b3daa6d5cf1c335fb\"\n",
    "    # city = 'Nairobi'\n",
    "    url = 'https://api.openweathermap.org/data/2.5/weather'\n",
    "    \n",
    "    # Parameters for the API request\n",
    "    params = {\n",
    "        'q': city,          # The city name\n",
    "        'appid': api_key,   # Your API key\n",
    "        'units': 'metric',   # To get the temperature in Celsius\n",
    "        'exclude': 'hourly' # Exclude hourly data\n",
    "    }\n",
    "    \n",
    "    # Send the GET request to the API\n",
    "    response = requests.get(url, params=params)\n",
    "    \n",
    "    # Check the response status code to handle errors\n",
    "    try:\n",
    "        response.raise_for_status()\n",
    "        data = response.json()\n",
    "        # print(data)\n",
    "        weather_data ={\n",
    "            'city': data['name'],\n",
    "            'country': data['sys']['country'],\n",
    "            'temperature': data['main']['temp'],\n",
    "            'description': data['weather'][0]['description'],\n",
    "            'humidity': data['main']['humidity'],\n",
    "            'wind_speed': data['wind']['speed'],\n",
    "            \n",
    "        }\n",
    "        return weather_data\n",
    "    except requests.exceptions.HTTPError as err:\n",
    "        return  (f'HTTP Error Occurred: {err}')\n",
    "    except requests.exceptions.RequestException as err:\n",
    "        return {'error': f'Request failed:  {err} '}\n",
    "    except  KeyError:\n",
    "        return {'error': 'Invalid response received. Check city name or API key'}"
   ]
  },
  {
   "cell_type": "code",
   "execution_count": 33,
   "id": "6c7e725f",
   "metadata": {},
   "outputs": [
    {
     "data": {
      "text/plain": [
       "{'city': 'Nairobi',\n",
       " 'country': 'KE',\n",
       " 'temperature': 22.77,\n",
       " 'description': 'overcast clouds',\n",
       " 'humidity': 49,\n",
       " 'wind_speed': 1.03}"
      ]
     },
     "execution_count": 33,
     "metadata": {},
     "output_type": "execute_result"
    }
   ],
   "source": [
    "get_weather(\"Nairobi\")"
   ]
  },
  {
   "cell_type": "code",
   "execution_count": 37,
   "id": "f89a56be-e61e-448a-ba18-46122176f592",
   "metadata": {},
   "outputs": [
    {
     "name": "stdout",
     "output_type": "stream",
     "text": [
      "Kileleshwa,KE \n",
      " Temperature: 22.35℃ \n",
      " Description:  overcast clouds\n",
      " Humidity: 50% \n",
      " Wind Speed:  1.13 m/s \n"
     ]
    }
   ],
   "source": [
    "# create a structured output from the weather results \n",
    "weather_info= get_weather('kileleshwa')\n",
    "if 'error' in weather_info:\n",
    "    print(weather_info['error'])\n",
    "\n",
    "else:\n",
    "    print (f'{weather_info['city']},{weather_info['country']} \\n Temperature: {weather_info['temperature']}℃ \\n Description:  {weather_info['description']}\\n Humidity: {weather_info['humidity']}% \\n Wind Speed:  {weather_info['wind_speed']} m/s ')"
   ]
  },
  {
   "cell_type": "code",
   "execution_count": null,
   "id": "e852063b-630e-4e26-95c7-46682b8f6daa",
   "metadata": {},
   "outputs": [],
   "source": []
  },
  {
   "cell_type": "code",
   "execution_count": 45,
   "id": "04569761-c8e9-46b3-92b6-e5bff5c13a3a",
   "metadata": {},
   "outputs": [
    {
     "name": "stdout",
     "output_type": "stream",
     "text": [
      "                                            indicator  \\\n",
      "0   {'id': 'NY.GDP.MKTP.CD', 'value': 'GDP (curren...   \n",
      "1   {'id': 'NY.GDP.MKTP.CD', 'value': 'GDP (curren...   \n",
      "2   {'id': 'NY.GDP.MKTP.CD', 'value': 'GDP (curren...   \n",
      "3   {'id': 'NY.GDP.MKTP.CD', 'value': 'GDP (curren...   \n",
      "4   {'id': 'NY.GDP.MKTP.CD', 'value': 'GDP (curren...   \n",
      "5   {'id': 'NY.GDP.MKTP.CD', 'value': 'GDP (curren...   \n",
      "6   {'id': 'NY.GDP.MKTP.CD', 'value': 'GDP (curren...   \n",
      "7   {'id': 'NY.GDP.MKTP.CD', 'value': 'GDP (curren...   \n",
      "8   {'id': 'NY.GDP.MKTP.CD', 'value': 'GDP (curren...   \n",
      "9   {'id': 'NY.GDP.MKTP.CD', 'value': 'GDP (curren...   \n",
      "10  {'id': 'NY.GDP.MKTP.CD', 'value': 'GDP (curren...   \n",
      "11  {'id': 'NY.GDP.MKTP.CD', 'value': 'GDP (curren...   \n",
      "12  {'id': 'NY.GDP.MKTP.CD', 'value': 'GDP (curren...   \n",
      "13  {'id': 'NY.GDP.MKTP.CD', 'value': 'GDP (curren...   \n",
      "14  {'id': 'NY.GDP.MKTP.CD', 'value': 'GDP (curren...   \n",
      "\n",
      "                                    country countryiso3code  date  \\\n",
      "0   {'id': 'GB', 'value': 'United Kingdom'}             GBR  2022   \n",
      "1   {'id': 'GB', 'value': 'United Kingdom'}             GBR  2021   \n",
      "2   {'id': 'GB', 'value': 'United Kingdom'}             GBR  2020   \n",
      "3   {'id': 'GB', 'value': 'United Kingdom'}             GBR  2019   \n",
      "4   {'id': 'GB', 'value': 'United Kingdom'}             GBR  2018   \n",
      "5   {'id': 'GB', 'value': 'United Kingdom'}             GBR  2017   \n",
      "6   {'id': 'GB', 'value': 'United Kingdom'}             GBR  2016   \n",
      "7   {'id': 'GB', 'value': 'United Kingdom'}             GBR  2015   \n",
      "8   {'id': 'GB', 'value': 'United Kingdom'}             GBR  2014   \n",
      "9   {'id': 'GB', 'value': 'United Kingdom'}             GBR  2013   \n",
      "10  {'id': 'GB', 'value': 'United Kingdom'}             GBR  2012   \n",
      "11  {'id': 'GB', 'value': 'United Kingdom'}             GBR  2011   \n",
      "12  {'id': 'GB', 'value': 'United Kingdom'}             GBR  2010   \n",
      "13  {'id': 'GB', 'value': 'United Kingdom'}             GBR  2009   \n",
      "14  {'id': 'GB', 'value': 'United Kingdom'}             GBR  2008   \n",
      "\n",
      "           value unit obs_status  decimal  \n",
      "0   3.114042e+12                        0  \n",
      "1   3.143323e+12                        0  \n",
      "2   2.696778e+12                        0  \n",
      "3   2.851407e+12                        0  \n",
      "4   2.871340e+12                        0  \n",
      "5   2.680148e+12                        0  \n",
      "6   2.689107e+12                        0  \n",
      "7   2.927911e+12                        0  \n",
      "8   3.064708e+12                        0  \n",
      "9   2.784854e+12                        0  \n",
      "10  2.707090e+12                        0  \n",
      "11  2.663806e+12                        0  \n",
      "12  2.485483e+12                        0  \n",
      "13  2.412840e+12                        0  \n",
      "14  2.929412e+12                        0  \n"
     ]
    }
   ],
   "source": [
    "# Getting World Bank Data via API for the uk\n",
    "\n",
    "country_code = 'GB' #ISO code for the \n",
    "indicator_id =\"NY.GDP.MKTP.CD\"\n",
    "\n",
    "date_range =\"2008:2022\"\n",
    "\n",
    "# data source\n",
    "url= f'https://api.worldbank.org/v2/country/{country_code}/indicator/{indicator_id}'\n",
    "\n",
    "params = { 'date':date_range, 'format':'json'}\n",
    "\n",
    "\n",
    "# send get request to the remote service\n",
    "\n",
    "response  =requests.get (url,params)\n",
    "\n",
    "try:\n",
    "    response.raise_for_status()\n",
    "    data = response.json()\n",
    "\n",
    "    # Filter the returned data\n",
    "    clean_data = data[1]\n",
    "\n",
    "    # convert the list of Dict into a dataframe\n",
    "    df_data = pd.DataFrame(clean_data)\n",
    "\n",
    "    # clean up the dataframe\n",
    "    \n",
    "    print( df_data)\n",
    "except requests.exceptions.HTTPError as err:\n",
    "    print  (f'HTTP Error Occurred: {err}')\n",
    "except requests.exceptions.RequestException as err:\n",
    "    print ({'error': f'Request failed:  {err} '})\n",
    "except  KeyError:\n",
    "    print( {'error': 'Invalid response received. Check city name or API key'})"
   ]
  },
  {
   "cell_type": "code",
   "execution_count": 47,
   "id": "59552732-8c13-4fc7-a48a-89d250fed3ec",
   "metadata": {},
   "outputs": [
    {
     "data": {
      "text/plain": [
       "Index(['indicator', 'country', 'countryiso3code', 'date', 'value', 'unit',\n",
       "       'obs_status', 'decimal'],\n",
       "      dtype='object')"
      ]
     },
     "execution_count": 47,
     "metadata": {},
     "output_type": "execute_result"
    }
   ],
   "source": [
    "df_data.columns"
   ]
  },
  {
   "cell_type": "code",
   "execution_count": 48,
   "id": "437ce3d6-03d6-478b-833c-c08558e26c46",
   "metadata": {},
   "outputs": [
    {
     "data": {
      "text/html": [
       "<div>\n",
       "<style scoped>\n",
       "    .dataframe tbody tr th:only-of-type {\n",
       "        vertical-align: middle;\n",
       "    }\n",
       "\n",
       "    .dataframe tbody tr th {\n",
       "        vertical-align: top;\n",
       "    }\n",
       "\n",
       "    .dataframe thead th {\n",
       "        text-align: right;\n",
       "    }\n",
       "</style>\n",
       "<table border=\"1\" class=\"dataframe\">\n",
       "  <thead>\n",
       "    <tr style=\"text-align: right;\">\n",
       "      <th></th>\n",
       "      <th>indicator</th>\n",
       "      <th>country</th>\n",
       "      <th>countryiso3code</th>\n",
       "      <th>date</th>\n",
       "      <th>value</th>\n",
       "      <th>unit</th>\n",
       "      <th>obs_status</th>\n",
       "      <th>decimal</th>\n",
       "    </tr>\n",
       "  </thead>\n",
       "  <tbody>\n",
       "    <tr>\n",
       "      <th>0</th>\n",
       "      <td>{'id': 'NY.GDP.MKTP.CD', 'value': 'GDP (curren...</td>\n",
       "      <td>{'id': 'GB', 'value': 'United Kingdom'}</td>\n",
       "      <td>GBR</td>\n",
       "      <td>2022</td>\n",
       "      <td>3.114042e+12</td>\n",
       "      <td></td>\n",
       "      <td></td>\n",
       "      <td>0</td>\n",
       "    </tr>\n",
       "    <tr>\n",
       "      <th>1</th>\n",
       "      <td>{'id': 'NY.GDP.MKTP.CD', 'value': 'GDP (curren...</td>\n",
       "      <td>{'id': 'GB', 'value': 'United Kingdom'}</td>\n",
       "      <td>GBR</td>\n",
       "      <td>2021</td>\n",
       "      <td>3.143323e+12</td>\n",
       "      <td></td>\n",
       "      <td></td>\n",
       "      <td>0</td>\n",
       "    </tr>\n",
       "    <tr>\n",
       "      <th>2</th>\n",
       "      <td>{'id': 'NY.GDP.MKTP.CD', 'value': 'GDP (curren...</td>\n",
       "      <td>{'id': 'GB', 'value': 'United Kingdom'}</td>\n",
       "      <td>GBR</td>\n",
       "      <td>2020</td>\n",
       "      <td>2.696778e+12</td>\n",
       "      <td></td>\n",
       "      <td></td>\n",
       "      <td>0</td>\n",
       "    </tr>\n",
       "    <tr>\n",
       "      <th>3</th>\n",
       "      <td>{'id': 'NY.GDP.MKTP.CD', 'value': 'GDP (curren...</td>\n",
       "      <td>{'id': 'GB', 'value': 'United Kingdom'}</td>\n",
       "      <td>GBR</td>\n",
       "      <td>2019</td>\n",
       "      <td>2.851407e+12</td>\n",
       "      <td></td>\n",
       "      <td></td>\n",
       "      <td>0</td>\n",
       "    </tr>\n",
       "    <tr>\n",
       "      <th>4</th>\n",
       "      <td>{'id': 'NY.GDP.MKTP.CD', 'value': 'GDP (curren...</td>\n",
       "      <td>{'id': 'GB', 'value': 'United Kingdom'}</td>\n",
       "      <td>GBR</td>\n",
       "      <td>2018</td>\n",
       "      <td>2.871340e+12</td>\n",
       "      <td></td>\n",
       "      <td></td>\n",
       "      <td>0</td>\n",
       "    </tr>\n",
       "  </tbody>\n",
       "</table>\n",
       "</div>"
      ],
      "text/plain": [
       "                                           indicator  \\\n",
       "0  {'id': 'NY.GDP.MKTP.CD', 'value': 'GDP (curren...   \n",
       "1  {'id': 'NY.GDP.MKTP.CD', 'value': 'GDP (curren...   \n",
       "2  {'id': 'NY.GDP.MKTP.CD', 'value': 'GDP (curren...   \n",
       "3  {'id': 'NY.GDP.MKTP.CD', 'value': 'GDP (curren...   \n",
       "4  {'id': 'NY.GDP.MKTP.CD', 'value': 'GDP (curren...   \n",
       "\n",
       "                                   country countryiso3code  date  \\\n",
       "0  {'id': 'GB', 'value': 'United Kingdom'}             GBR  2022   \n",
       "1  {'id': 'GB', 'value': 'United Kingdom'}             GBR  2021   \n",
       "2  {'id': 'GB', 'value': 'United Kingdom'}             GBR  2020   \n",
       "3  {'id': 'GB', 'value': 'United Kingdom'}             GBR  2019   \n",
       "4  {'id': 'GB', 'value': 'United Kingdom'}             GBR  2018   \n",
       "\n",
       "          value unit obs_status  decimal  \n",
       "0  3.114042e+12                        0  \n",
       "1  3.143323e+12                        0  \n",
       "2  2.696778e+12                        0  \n",
       "3  2.851407e+12                        0  \n",
       "4  2.871340e+12                        0  "
      ]
     },
     "execution_count": 48,
     "metadata": {},
     "output_type": "execute_result"
    }
   ],
   "source": [
    "df_data.head()"
   ]
  },
  {
   "cell_type": "code",
   "execution_count": null,
   "id": "fcb4cc43-fb5e-4c00-88c4-2970739c0029",
   "metadata": {},
   "outputs": [],
   "source": []
  },
  {
   "cell_type": "code",
   "execution_count": null,
   "id": "8fde5ea0-64ae-41b1-ae01-4a11f468450c",
   "metadata": {},
   "outputs": [],
   "source": []
  }
 ],
 "metadata": {
  "kernelspec": {
   "display_name": "Python 3 (ipykernel)",
   "language": "python",
   "name": "python3"
  },
  "language_info": {
   "codemirror_mode": {
    "name": "ipython",
    "version": 3
   },
   "file_extension": ".py",
   "mimetype": "text/x-python",
   "name": "python",
   "nbconvert_exporter": "python",
   "pygments_lexer": "ipython3",
   "version": "3.12.11"
  }
 },
 "nbformat": 4,
 "nbformat_minor": 5
}

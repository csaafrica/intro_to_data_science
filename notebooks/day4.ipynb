{
 "cells": [
  {
   "cell_type": "markdown",
   "id": "2dd6b6a2",
   "metadata": {},
   "source": [
    "# Day 4: Data Wrangling and Advanced Pandas\n",
    "\n",
    "**Prepared By:** Dr. Kenechi Omeke  \n",
    "**Date:** November 2024  \n",
    "\n",
    "---\n",
    "\n",
    "## Aim\n",
    "Teach advanced data manipulation techniques for complex datasets.\n",
    "\n",
    "## Intended Learning Outcomes\n",
    "- Merge, join, and concatenate DataFrames.\n",
    "- Perform group operations and aggregations.\n",
    "- Handle time-series data effectively.\n",
    "\n",
    "## Topics Covered\n",
    "- Merging and Joining DataFrames (with code examples)\n",
    "- GroupBy Operations and Aggregations (with code examples)\n",
    "- Time-Series Data Analysis (with code examples)\n",
    "- Mini-Project: Advanced Data Wrangling\n",
    "\n",
    "---"
   ]
  },
  {
   "cell_type": "markdown",
   "id": "7d612031",
   "metadata": {},
   "source": [
    "# 1. Merging and Joining DataFrames\n",
    "Combining datasets is essential for real-world analysis. Let's practice different types of joins."
   ]
  },
  {
   "cell_type": "code",
   "execution_count": null,
   "id": "76cc75a4",
   "metadata": {},
   "outputs": [],
   "source": [
    "import pandas as pd\n",
    "# Example DataFrames\n",
    "df1 = pd.DataFrame({'ID': [1, 2, 3], 'Name': ['Alice', 'Bob', 'Charlie']})\n",
    "df2 = pd.DataFrame({'ID': [2, 3, 4], 'Score': [85, 90, 95]})\n",
    "# Inner join\n",
    "inner = pd.merge(df1, df2, on='ID', how='inner')\n",
    "print('Inner join:')\n",
    "print(inner)\n",
    "# Outer join\n",
    "outer = pd.merge(df1, df2, on='ID', how='outer')\n",
    "print('\\nOuter join:')\n",
    "print(outer)"
   ]
  },
  {
   "cell_type": "code",
   "execution_count": null,
   "id": "22cccefa",
   "metadata": {},
   "outputs": [],
   "source": [
    "# Left and right joins\n",
    "left = pd.merge(df1, df2, on='ID', how='left')\n",
    "right = pd.merge(df1, df2, on='ID', how='right')\n",
    "print('Left join:')\n",
    "print(left)\n",
    "print('\\nRight join:')\n",
    "print(right)"
   ]
  },
  {
   "cell_type": "markdown",
   "id": "b8eef553",
   "metadata": {},
   "source": [
    "## Exercise: Merging Practice\n",
    "1. Create two DataFrames with a common column and merge them using all four join types.\n",
    "2. What happens if there are duplicate keys?"
   ]
  },
  {
   "cell_type": "markdown",
   "id": "858b0a76",
   "metadata": {},
   "source": [
    "# 2. GroupBy Operations and Aggregations\n",
    "GroupBy lets you split data into groups, apply functions, and combine results."
   ]
  },
  {
   "cell_type": "code",
   "execution_count": null,
   "id": "dedd3dd6",
   "metadata": {},
   "outputs": [],
   "source": [
    "# Example: Grouping and Aggregating\n",
    "data = pd.DataFrame({'Category': ['A', 'A', 'B', 'B'], 'Values': [10, 20, 30, 40]})\n",
    "grouped = data.groupby('Category').mean()\n",
    "print(grouped)\n",
    "# Custom aggregation\n",
    "gg = data.groupby('Category').agg({'Values': ['sum', 'mean']})\n",
    "print(gg)"
   ]
  },
  {
   "cell_type": "markdown",
   "id": "fd99f932",
   "metadata": {},
   "source": [
    "## Exercise: GroupBy Practice\n",
    "1. Use the Titanic dataset (`sns.load_dataset('titanic')`).\n",
    "2. Group by `pclass` and calculate the average age and fare.\n",
    "3. Find the total number of survivors by gender."
   ]
  },
  {
   "cell_type": "markdown",
   "id": "f17696bd",
   "metadata": {},
   "source": [
    "# 3. Time-Series Data Analysis\n",
    "Time-series data is ordered by time. Let's see how to analyze it."
   ]
  },
  {
   "cell_type": "code",
   "execution_count": null,
   "id": "7ed87b9f",
   "metadata": {},
   "outputs": [],
   "source": [
    "import numpy as np\n",
    "import pandas as pd\n",
    "import matplotlib.pyplot as plt\n",
    "from statsmodels.tsa.seasonal import seasonal_decompose\n",
    "# Create example time-series data\n",
    "dates = pd.date_range(start='2023-01-01', periods=24, freq='M')\n",
    "values = np.random.randint(100, 200, size=24)\n",
    "ts = pd.Series(values, index=dates)\n",
    "ts.plot(title='Monthly Sales')\n",
    "plt.show()\n",
    "# Decompose time series\n",
    "result = seasonal_decompose(ts, model='additive', period=12)\n",
    "result.plot()\n",
    "plt.show()"
   ]
  },
  {
   "cell_type": "markdown",
   "id": "f9d8379a",
   "metadata": {},
   "source": [
    "## Exercise: Time-Series Practice\n",
    "1. Create a time series of daily temperatures for one month (random data).\n",
    "2. Plot the series and decompose it using `seasonal_decompose`."
   ]
  },
  {
   "cell_type": "markdown",
   "id": "a231f91d",
   "metadata": {},
   "source": [
    "# 4. Mini-Project: Advanced Data Wrangling\n",
    "1. Download or load two related datasets (e.g., sales and customers).\n",
    "2. Merge them and perform groupby analysis (e.g., total sales by region).\n",
    "3. If you have a time column, plot sales over time and decompose the trend.\n",
    "4. Summarize your findings in markdown."
   ]
  },
  {
   "cell_type": "markdown",
   "id": "9e6080f8",
   "metadata": {},
   "source": [
    "## Reflection & Next Steps\n",
    "- Which merging or groupby operation did you find most useful?\n",
    "- Try wrangling a dataset from your own field.\n",
    "- Explore more in the Pandas and statsmodels documentation.\n",
    "\n",
    "---\n",
    "\n",
    "## References\n",
    "- [Pandas Documentation](https://pandas.pydata.org/)\n",
    "- [Statsmodels Documentation](https://www.statsmodels.org/)"
   ]
  }
 ],
 "metadata": {
  "language_info": {
   "name": "python"
  }
 },
 "nbformat": 4,
 "nbformat_minor": 5
}

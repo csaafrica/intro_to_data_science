{
 "cells": [
  {
   "cell_type": "code",
   "execution_count": 1,
   "id": "b49616f2-e30c-4acc-943b-bac1f78809b7",
   "metadata": {},
   "outputs": [
    {
     "name": "stdout",
     "output_type": "stream",
     "text": [
      "8\n"
     ]
    }
   ],
   "source": [
    "# Playing with dictionaries \n",
    "\n",
    "matrix  = [\n",
    "    [1,2,3],\n",
    "    [4,5,6], \n",
    "    [7,8,9]\n",
    "]\n",
    "\n",
    "print(matrix[2][1])"
   ]
  },
  {
   "cell_type": "code",
   "execution_count": 2,
   "id": "43e84e18-393e-40b4-8f09-b63e0b66979f",
   "metadata": {},
   "outputs": [
    {
     "data": {
      "text/plain": [
       "[[1, 2, 3], [4, 5, 6]]"
      ]
     },
     "execution_count": 2,
     "metadata": {},
     "output_type": "execute_result"
    }
   ],
   "source": [
    "matrix[0:2]"
   ]
  },
  {
   "cell_type": "code",
   "execution_count": 3,
   "id": "054bcdc4-074a-477f-a53d-17cfc4b30bd7",
   "metadata": {},
   "outputs": [
    {
     "name": "stdout",
     "output_type": "stream",
     "text": [
      "1\n",
      "4\n",
      "7\n"
     ]
    }
   ],
   "source": [
    "for  row in matrix:\n",
    "    print(row[0])"
   ]
  },
  {
   "cell_type": "code",
   "execution_count": null,
   "id": "84bd44cb-b0e5-4de9-9fdb-a7619d28821b",
   "metadata": {},
   "outputs": [],
   "source": [
    "students=  { \"John\": {'age': 15, 'grade':'A'},\n",
    "             'Alice': {'age':14, 'grade': 'B'}}"
   ]
  },
  {
   "cell_type": "code",
   "execution_count": 4,
   "id": "d6f045ea-fc06-4ba8-bd63-ffb9ed082642",
   "metadata": {},
   "outputs": [
    {
     "data": {
      "text/plain": [
       "[90, 80, 85]"
      ]
     },
     "execution_count": 4,
     "metadata": {},
     "output_type": "execute_result"
    }
   ],
   "source": [
    "data = { 'Math': [90,80,85],\n",
    "         'Science': [75,85,93]}\n",
    "\n",
    "data['Math']"
   ]
  },
  {
   "cell_type": "code",
   "execution_count": 5,
   "id": "2a146cb5-aaf8-4bf8-b89c-48d778e2c401",
   "metadata": {},
   "outputs": [
    {
     "data": {
      "text/plain": [
       "[75, 85, 93]"
      ]
     },
     "execution_count": 5,
     "metadata": {},
     "output_type": "execute_result"
    }
   ],
   "source": [
    "data['Science']"
   ]
  },
  {
   "cell_type": "code",
   "execution_count": 6,
   "id": "18aa2176-cac5-4a20-a178-9432d0dc0868",
   "metadata": {},
   "outputs": [],
   "source": [
    "complex_data =[\n",
    "    {\n",
    "        'name':'John',\n",
    "        'grades': {\n",
    "            'math': [90,85,88],\n",
    "            'science': [78,92]\n",
    "        }\n",
    "    },\n",
    "     {\n",
    "         'name':'John',\n",
    "         'grades': {\n",
    "             'math': [80,87,88],\n",
    "             'science': [88,72] \n",
    "         }   \n",
    "     }\n",
    "]"
   ]
  },
  {
   "cell_type": "code",
   "execution_count": 7,
   "id": "40bedba9-f7fd-47a0-924f-f727919c5f2f",
   "metadata": {},
   "outputs": [],
   "source": [
    "# OOP IN PYTHON \n",
    "\n"
   ]
  },
  {
   "cell_type": "code",
   "execution_count": 8,
   "id": "8b467dbb-4a31-4989-8193-e52fa9e0aad9",
   "metadata": {},
   "outputs": [
    {
     "name": "stdout",
     "output_type": "stream",
     "text": [
      "4\n"
     ]
    }
   ],
   "source": [
    "import random \n",
    "\n",
    "# generating random integers \n",
    "\n",
    "print(random.randint(2,5))"
   ]
  },
  {
   "cell_type": "code",
   "execution_count": 9,
   "id": "87f6b7b8-16c4-4a00-b734-b48cd15a5788",
   "metadata": {},
   "outputs": [
    {
     "name": "stdout",
     "output_type": "stream",
     "text": [
      "Shidmer\n"
     ]
    }
   ],
   "source": [
    "lst= ['Kenechi','Ariane','Omoke','Shidmer']\n",
    "\n",
    "print(random.choice(lst))"
   ]
  },
  {
   "cell_type": "code",
   "execution_count": null,
   "id": "e4e385c6-eb61-413c-b5d6-8f3034dc4fdf",
   "metadata": {},
   "outputs": [],
   "source": [
    "# Printing out the source code of the lib you are using. \n",
    "\n",
    "import inspect\n",
    "\n",
    "print(inspect.getsource(random))"
   ]
  },
  {
   "cell_type": "code",
   "execution_count": 22,
   "id": "7423f05c-cca6-43b7-9ed1-85bee1d6eaa2",
   "metadata": {},
   "outputs": [],
   "source": [
    "# creating classes\n",
    "\n",
    "class  Student:\n",
    "    # create instance variables.\n",
    "    def __init__ (self, first_name, last_name, lab ):\n",
    "        self.first_name=first_name\n",
    "        self.last_name= last_name #This is a instance variable that can only be accessed by creating an object. \n",
    "        self.lab = lab\n",
    "        TotalStudents+=1  #This is a class varible that can be accessed without creating an object.\n",
    "\n",
    "    "
   ]
  },
  {
   "cell_type": "code",
   "execution_count": 23,
   "id": "504eaceb-f37a-4023-b05b-f0c5ea610cb9",
   "metadata": {},
   "outputs": [
    {
     "ename": "UnboundLocalError",
     "evalue": "cannot access local variable 'TotalStudents' where it is not associated with a value",
     "output_type": "error",
     "traceback": [
      "\u001b[31m---------------------------------------------------------------------------\u001b[39m",
      "\u001b[31mUnboundLocalError\u001b[39m                         Traceback (most recent call last)",
      "\u001b[36mCell\u001b[39m\u001b[36m \u001b[39m\u001b[32mIn[23]\u001b[39m\u001b[32m, line 1\u001b[39m\n\u001b[32m----> \u001b[39m\u001b[32m1\u001b[39m student1= Student(\u001b[33m'\u001b[39m\u001b[33mJango\u001b[39m\u001b[33m'\u001b[39m, \u001b[33m'\u001b[39m\u001b[33mJinga\u001b[39m\u001b[33m'\u001b[39m, \u001b[33m'\u001b[39m\u001b[33mcf5g\u001b[39m\u001b[33m'\u001b[39m)\n\u001b[32m      3\u001b[39m \u001b[38;5;28mprint\u001b[39m(student1.first_name)\n",
      "\u001b[36mCell\u001b[39m\u001b[36m \u001b[39m\u001b[32mIn[22]\u001b[39m\u001b[32m, line 9\u001b[39m, in \u001b[36mStudent.__init__\u001b[39m\u001b[34m(self, first_name, last_name, lab)\u001b[39m\n\u001b[32m      7\u001b[39m \u001b[38;5;28mself\u001b[39m.last_name= last_name \u001b[38;5;66;03m#This is a instance variable that can only be accessed by creating an object. \u001b[39;00m\n\u001b[32m      8\u001b[39m \u001b[38;5;28mself\u001b[39m.lab = lab\n\u001b[32m----> \u001b[39m\u001b[32m9\u001b[39m TotalStudents+=\u001b[32m1\u001b[39m\n",
      "\u001b[31mUnboundLocalError\u001b[39m: cannot access local variable 'TotalStudents' where it is not associated with a value"
     ]
    }
   ],
   "source": [
    "student1= Student('Jango', 'Jinga', 'cf5g')\n",
    "\n",
    "print(student1.first_name)"
   ]
  },
  {
   "cell_type": "code",
   "execution_count": 19,
   "id": "2b6c7de5-db9a-481c-a57d-a4aa94f34cca",
   "metadata": {},
   "outputs": [],
   "source": [
    "# creating methods for my class\n",
    "# creating classes\n",
    "\n",
    "class  Student:\n",
    "    # create instance variables.\n",
    "    # self.TotalStudents=0\n",
    "    def __init__ (self, first_name, last_name, lab ):\n",
    "        self.first_name=first_name\n",
    "        self.last_name= last_name #This is a instance variable that can only be accessed by creating an object. \n",
    "        self.lab = lab\n",
    "        self.TotalStudents+=1  #This is a class varible that can be accessed without creating an object.\n",
    "\n",
    "    def full_name (self):\n",
    "        return f\"{first_name}{last_name}\"\n",
    "\n",
    "    def mood (self):\n",
    "        return f\"{self.full_name()} enjoys python programming\"\n",
    "\n",
    "    def get_email(self):\n",
    "        full_name = f'{self.full_name().lower()}'\n",
    "\n",
    "\n",
    "        \n"
   ]
  },
  {
   "cell_type": "code",
   "execution_count": 17,
   "id": "56eab9a0-c26b-4b3d-a17a-ddcc068df729",
   "metadata": {},
   "outputs": [
    {
     "ename": "AttributeError",
     "evalue": "'Student' object has no attribute 'TotalStudents'",
     "output_type": "error",
     "traceback": [
      "\u001b[31m---------------------------------------------------------------------------\u001b[39m",
      "\u001b[31mAttributeError\u001b[39m                            Traceback (most recent call last)",
      "\u001b[36mCell\u001b[39m\u001b[36m \u001b[39m\u001b[32mIn[17]\u001b[39m\u001b[32m, line 1\u001b[39m\n\u001b[32m----> \u001b[39m\u001b[32m1\u001b[39m student1= Student(\u001b[33m'\u001b[39m\u001b[33mMmambo\u001b[39m\u001b[33m'\u001b[39m,\u001b[33m'\u001b[39m\u001b[33mthemamba\u001b[39m\u001b[33m'\u001b[39m,\u001b[33m'\u001b[39m\u001b[33mc4g\u001b[39m\u001b[33m'\u001b[39m)\n",
      "\u001b[36mCell\u001b[39m\u001b[36m \u001b[39m\u001b[32mIn[16]\u001b[39m\u001b[32m, line 10\u001b[39m, in \u001b[36mStudent.__init__\u001b[39m\u001b[34m(self, first_name, last_name, lab)\u001b[39m\n\u001b[32m      8\u001b[39m \u001b[38;5;28mself\u001b[39m.last_name= last_name \u001b[38;5;66;03m#This is a instance variable that can only be accessed by creating an object. \u001b[39;00m\n\u001b[32m      9\u001b[39m \u001b[38;5;28mself\u001b[39m.lab = lab\n\u001b[32m---> \u001b[39m\u001b[32m10\u001b[39m \u001b[38;5;28mself\u001b[39m.TotalStudents+=\u001b[32m1\u001b[39m\n",
      "\u001b[31mAttributeError\u001b[39m: 'Student' object has no attribute 'TotalStudents'"
     ]
    }
   ],
   "source": [
    "student1= Student('Mmambo','themamba','c4g')"
   ]
  },
  {
   "cell_type": "code",
   "execution_count": null,
   "id": "cef904fa-201a-4473-8311-8d2c32999614",
   "metadata": {},
   "outputs": [],
   "source": []
  }
 ],
 "metadata": {
  "kernelspec": {
   "display_name": "Python 3 (ipykernel)",
   "language": "python",
   "name": "python3"
  },
  "language_info": {
   "codemirror_mode": {
    "name": "ipython",
    "version": 3
   },
   "file_extension": ".py",
   "mimetype": "text/x-python",
   "name": "python",
   "nbconvert_exporter": "python",
   "pygments_lexer": "ipython3",
   "version": "3.12.11"
  }
 },
 "nbformat": 4,
 "nbformat_minor": 5
}

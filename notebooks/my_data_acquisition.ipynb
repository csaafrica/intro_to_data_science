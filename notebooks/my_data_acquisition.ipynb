{
 "cells": [
  {
   "cell_type": "code",
<<<<<<< HEAD
   "execution_count": 43,
   "id": "6899b16a",
=======
   "execution_count": 1,
<<<<<<< HEAD:notebooks/my_data_acquisition.ipynb
   "id": "bfd44353",
>>>>>>> beb1f1fff9b0ffeb344ad18f2b87191c368eea44
=======
   "id": "6284fef7",
>>>>>>> 08756710e795cb304d909774279ee7ecd250b7e6:notebooks/data_acquisition.ipynb
   "metadata": {},
   "outputs": [],
   "source": [
    "import os\n",
    "import requests\n",
<<<<<<< HEAD:notebooks/my_data_acquisition.ipynb
=======
    "import requests\n",
>>>>>>> 08756710e795cb304d909774279ee7ecd250b7e6:notebooks/data_acquisition.ipynb
    "import pandas as pd"
   ]
  },
  {
   "cell_type": "code",
<<<<<<< HEAD
   "execution_count": 44,
   "id": "25175239",
=======
   "execution_count": 3,
<<<<<<< HEAD:notebooks/my_data_acquisition.ipynb
   "id": "6e30c748",
>>>>>>> beb1f1fff9b0ffeb344ad18f2b87191c368eea44
=======
   "id": "3b169b61",
>>>>>>> 08756710e795cb304d909774279ee7ecd250b7e6:notebooks/data_acquisition.ipynb
   "metadata": {},
   "outputs": [],
   "source": [
    "def get_weather (city:str)-> dict|str:\n",
    "    \"\"\"\n",
    "    Fetches weather data for the given city using the openweathermap API \n",
    "    -city_name (str): Name of the city (e.g:  Nairobi, New York)\n",
    "    -api_key (str): The open weather map api key\n",
    "    Parameters:\n",
    "    Returns:\n",
    "    -dict\n",
    "    \"\"\"\n",
    "    api_key = \"488c72e690e78b8b3daa6d5cf1c335fb\"\n",
    "    # city = 'Nairobi'\n",
    "    url = 'https://api.openweathermap.org/data/2.5/weather'\n",
    "    \n",
    "    # Parameters for the API request\n",
    "    params = {\n",
    "        'q': city,          # The city name\n",
    "        'appid': api_key,   # Your API key\n",
    "        'units': 'metric',   # To get the temperature in Celsius\n",
    "        'exclude': 'hourly' # Exclude hourly data\n",
    "    }\n",
    "    \n",
    "    # Send the GET request to the API\n",
    "    response = requests.get(url, params=params)\n",
    "    \n",
    "    # Check the response status code to handle errors\n",
    "    try:\n",
    "        response.raise_for_status()\n",
    "        data = response.json()\n",
    "        # print(data)\n",
    "        weather_data ={\n",
    "            'city': data['name'],\n",
    "            'country': data['sys']['country'],\n",
    "            'temperature': data['main']['temp'],\n",
    "            'description': data['weather'][0]['description'],\n",
    "            'humidity': data['main']['humidity'],\n",
    "            'wind_speed': data['wind']['speed'],\n",
    "            \n",
    "        }\n",
    "        return weather_data\n",
    "    except requests.exceptions.HTTPError as err:\n",
    "        return  (f'HTTP Error Occurred: {err}')\n",
    "    except requests.exceptions.RequestException as err:\n",
    "        return {'error': f'Request failed:  {err} '}\n",
    "    except  KeyError:\n",
    "        return {'error': 'Invalid response received. Check city name or API key'}"
   ]
  },
  {
   "cell_type": "code",
<<<<<<< HEAD
   "execution_count": 33,
   "id": "6c7e725f",
=======
   "execution_count": 4,
<<<<<<< HEAD:notebooks/my_data_acquisition.ipynb
   "id": "10c68dd7",
>>>>>>> beb1f1fff9b0ffeb344ad18f2b87191c368eea44
=======
   "id": "4c2cb827",
>>>>>>> 08756710e795cb304d909774279ee7ecd250b7e6:notebooks/data_acquisition.ipynb
   "metadata": {},
   "outputs": [
    {
     "data": {
      "text/plain": [
       "{'city': 'Nairobi',\n",
       " 'country': 'KE',\n",
       " 'temperature': 22.77,\n",
       " 'description': 'overcast clouds',\n",
       " 'humidity': 49,\n",
       " 'wind_speed': 1.03}"
      ]
     },
     "execution_count": 33,
     "metadata": {},
     "output_type": "execute_result"
    }
   ],
   "source": [
    "get_weather(\"Nairobi\")"
   ]
  },
  {
   "cell_type": "code",
   "execution_count": 37,
   "id": "f89a56be-e61e-448a-ba18-46122176f592",
   "metadata": {},
   "outputs": [
    {
     "name": "stdout",
     "output_type": "stream",
     "text": [
      "Kileleshwa,KE \n",
      " Temperature: 22.35℃ \n",
      " Description:  overcast clouds\n",
      " Humidity: 50% \n",
      " Wind Speed:  1.13 m/s \n"
     ]
    }
   ],
   "source": [
    "# create a structured output from the weather results \n",
    "weather_info= get_weather('kileleshwa')\n",
    "if 'error' in weather_info:\n",
    "    print(weather_info['error'])\n",
    "\n",
    "else:\n",
    "    print (f'{weather_info['city']},{weather_info['country']} \\n Temperature: {weather_info['temperature']}℃ \\n Description:  {weather_info['description']}\\n Humidity: {weather_info['humidity']}% \\n Wind Speed:  {weather_info['wind_speed']} m/s ')"
   ]
  },
  {
   "cell_type": "code",
   "execution_count": 5,
   "id": "6617c1eb",
   "metadata": {},
   "outputs": [
    {
     "name": "stdout",
     "output_type": "stream",
     "text": [
      "City: Nairobi\n",
      "Temperature: 23.93°C\n",
      "Weather: broken clouds\n"
     ]
    }
   ],
   "source": [
    "# Extract and print the relevant information\n",
    "print(f\"City: {weather_data['name']}\")\n",
    "print(f\"Temperature: {weather_data['main']['temp']}°C\")\n",
    "print(f\"Weather: {weather_data['weather'][0]['description']}\")"
   ]
  },
  {
   "cell_type": "code",
   "execution_count": 6,
   "id": "5f4d3827",
   "metadata": {},
   "outputs": [],
   "source": [
    "# It is a best practice to store your API key in an environment variable\n",
    "# Replace 'your_api_key' with your actual key if not using environment variables\n",
    "api_key = \"488c72e690e78b8b3daa6d5cf1c335fb\"\n",
    "city = 'Glasgow'\n",
    "url = 'https://api.openweathermap.org/data/2.5/weather'\n",
    "\n",
    "# Parameters for the API request\n",
    "params = {\n",
    "    'q': city,          # The city name\n",
    "    'appid': api_key,   # Your API key\n",
    "    'units': 'metric',   # To get the temperature in Celsius\n",
    "    'exclude': 'hourly' # Exclude hourly data\n",
    "}\n",
    "\n",
    "# Send the GET request to the API\n",
    "response = requests.get(url, params=params)\n",
    "\n",
    "\n",
    "# Check the response status code to handle errors\n",
    "if response.status_code == 200:\n",
    "    # Parse the JSON response if the request was successful\n",
    "    gla_data = response.json()\n",
    "    \n",
    "else:\n",
    "    # Print an error if the request failed\n",
    "    print(f'Error: {response.status_code}')"
   ]
  },
  {
   "cell_type": "code",
   "execution_count": 7,
   "id": "3da706c7",
   "metadata": {
    "scrolled": true
   },
   "outputs": [
    {
     "name": "stdout",
     "output_type": "stream",
     "text": [
      "City: Glasgow\n",
      "Temperature: 19.3°C\n",
      "Weather: overcast clouds\n"
     ]
    }
   ],
   "source": [
    "# Extract and print the relevant information\n",
    "print(f\"City: {gla_data['name']}\")\n",
    "print(f\"Temperature: {gla_data['main']['temp']}°C\")\n",
    "print(f\"Weather: {gla_data['weather'][0]['description']}\")"
   ]
  },
  {
   "cell_type": "code",
   "execution_count": null,
<<<<<<< HEAD:notebooks/my_data_acquisition.ipynb
<<<<<<< HEAD
   "id": "e852063b-630e-4e26-95c7-46682b8f6daa",
   "metadata": {},
   "outputs": [],
   "source": []
  },
  {
   "cell_type": "code",
   "execution_count": 45,
   "id": "04569761-c8e9-46b3-92b6-e5bff5c13a3a",
=======
   "id": "e228c7ad",
=======
   "id": "2ddbe2e9",
>>>>>>> 08756710e795cb304d909774279ee7ecd250b7e6:notebooks/data_acquisition.ipynb
   "metadata": {},
   "outputs": [],
   "source": [
    "def weather_for_my_city(cityname, get_humidity=my_city_data[''])"
   ]
  },
  {
   "cell_type": "code",
   "execution_count": 11,
   "id": "3a13551f",
   "metadata": {},
   "outputs": [],
   "source": [
    "# import wbgapi as wb\n",
    "# import pandas as pd\n",
    "\n",
    "# # Define the country and the indicator\n",
    "# country_code = 'KE' # Kenya's ISO code\n",
    "# indicator_id = 'NY.GDP.MKTP.CD' # GDP in current US$\n",
    "\n",
    "# # Fetch the data for a specific time range\n",
    "# gdp_data = wb.data.DataFrame(indicator_id, country_code, time=range(2010, 2023))\n",
    "\n",
    "# # The data is returned \"pivoted\", let's clean it up\n",
    "# gdp_data = gdp_data.reset_index().rename(columns={'time': 'Year', 'NY.GDP.MKTP.CD': 'GDP_USD'})\n",
    "\n",
    "# # Remove the 'YR' from the Year column and display the result\n",
    "# gdp_data['Year'] = gdp_data['Year'].str.replace('YR', '')\n",
    "# print(\"GDP for Kenya (2010-2022):\")\n",
    "# print(gdp_data)"
   ]
  },
  {
   "cell_type": "code",
   "execution_count": 12,
<<<<<<< HEAD:notebooks/my_data_acquisition.ipynb
   "id": "a887ffa7",
>>>>>>> beb1f1fff9b0ffeb344ad18f2b87191c368eea44
=======
   "id": "2767a0c4",
>>>>>>> 08756710e795cb304d909774279ee7ecd250b7e6:notebooks/data_acquisition.ipynb
   "metadata": {},
   "outputs": [
    {
     "name": "stdout",
     "output_type": "stream",
     "text": [
<<<<<<< HEAD
      "                                            indicator  \\\n",
      "0   {'id': 'NY.GDP.MKTP.CD', 'value': 'GDP (curren...   \n",
      "1   {'id': 'NY.GDP.MKTP.CD', 'value': 'GDP (curren...   \n",
      "2   {'id': 'NY.GDP.MKTP.CD', 'value': 'GDP (curren...   \n",
      "3   {'id': 'NY.GDP.MKTP.CD', 'value': 'GDP (curren...   \n",
      "4   {'id': 'NY.GDP.MKTP.CD', 'value': 'GDP (curren...   \n",
      "5   {'id': 'NY.GDP.MKTP.CD', 'value': 'GDP (curren...   \n",
      "6   {'id': 'NY.GDP.MKTP.CD', 'value': 'GDP (curren...   \n",
      "7   {'id': 'NY.GDP.MKTP.CD', 'value': 'GDP (curren...   \n",
      "8   {'id': 'NY.GDP.MKTP.CD', 'value': 'GDP (curren...   \n",
      "9   {'id': 'NY.GDP.MKTP.CD', 'value': 'GDP (curren...   \n",
      "10  {'id': 'NY.GDP.MKTP.CD', 'value': 'GDP (curren...   \n",
      "11  {'id': 'NY.GDP.MKTP.CD', 'value': 'GDP (curren...   \n",
      "12  {'id': 'NY.GDP.MKTP.CD', 'value': 'GDP (curren...   \n",
      "13  {'id': 'NY.GDP.MKTP.CD', 'value': 'GDP (curren...   \n",
      "14  {'id': 'NY.GDP.MKTP.CD', 'value': 'GDP (curren...   \n",
      "\n",
      "                                    country countryiso3code  date  \\\n",
      "0   {'id': 'GB', 'value': 'United Kingdom'}             GBR  2022   \n",
      "1   {'id': 'GB', 'value': 'United Kingdom'}             GBR  2021   \n",
      "2   {'id': 'GB', 'value': 'United Kingdom'}             GBR  2020   \n",
      "3   {'id': 'GB', 'value': 'United Kingdom'}             GBR  2019   \n",
      "4   {'id': 'GB', 'value': 'United Kingdom'}             GBR  2018   \n",
      "5   {'id': 'GB', 'value': 'United Kingdom'}             GBR  2017   \n",
      "6   {'id': 'GB', 'value': 'United Kingdom'}             GBR  2016   \n",
      "7   {'id': 'GB', 'value': 'United Kingdom'}             GBR  2015   \n",
      "8   {'id': 'GB', 'value': 'United Kingdom'}             GBR  2014   \n",
      "9   {'id': 'GB', 'value': 'United Kingdom'}             GBR  2013   \n",
      "10  {'id': 'GB', 'value': 'United Kingdom'}             GBR  2012   \n",
      "11  {'id': 'GB', 'value': 'United Kingdom'}             GBR  2011   \n",
      "12  {'id': 'GB', 'value': 'United Kingdom'}             GBR  2010   \n",
      "13  {'id': 'GB', 'value': 'United Kingdom'}             GBR  2009   \n",
      "14  {'id': 'GB', 'value': 'United Kingdom'}             GBR  2008   \n",
      "\n",
      "           value unit obs_status  decimal  \n",
      "0   3.114042e+12                        0  \n",
      "1   3.143323e+12                        0  \n",
      "2   2.696778e+12                        0  \n",
      "3   2.851407e+12                        0  \n",
      "4   2.871340e+12                        0  \n",
      "5   2.680148e+12                        0  \n",
      "6   2.689107e+12                        0  \n",
      "7   2.927911e+12                        0  \n",
      "8   3.064708e+12                        0  \n",
      "9   2.784854e+12                        0  \n",
      "10  2.707090e+12                        0  \n",
      "11  2.663806e+12                        0  \n",
      "12  2.485483e+12                        0  \n",
      "13  2.412840e+12                        0  \n",
      "14  2.929412e+12                        0  \n"
=======
      "GDP for Kenya (2010-2022):\n",
      "    Year       GDP_USD\n",
      "0   2022  1.144490e+11\n",
      "1   2021  1.097037e+11\n",
      "2   2020  1.006575e+11\n",
      "3   2019  1.003784e+11\n",
      "4   2018  9.220298e+10\n",
      "5   2017  8.203651e+10\n",
      "6   2016  7.481514e+10\n",
      "7   2015  7.012045e+10\n",
      "8   2014  6.828580e+10\n",
      "9   2013  6.167144e+10\n",
      "10  2012  5.639670e+10\n",
      "11  2011  4.686947e+10\n",
      "12  2010  4.540562e+10\n"
>>>>>>> beb1f1fff9b0ffeb344ad18f2b87191c368eea44
     ]
    }
   ],
   "source": [
<<<<<<< HEAD:notebooks/my_data_acquisition.ipynb
<<<<<<< HEAD
    "# Getting World Bank Data via API for the uk\n",
    "\n",
    "country_code = 'GB' #ISO code for the \n",
    "indicator_id =\"NY.GDP.MKTP.CD\"\n",
    "\n",
    "date_range =\"2008:2022\"\n",
    "\n",
    "# data source\n",
    "url= f'https://api.worldbank.org/v2/country/{country_code}/indicator/{indicator_id}'\n",
    "\n",
    "params = { 'date':date_range, 'format':'json'}\n",
    "\n",
    "\n",
    "# send get request to the remote service\n",
    "\n",
    "response  =requests.get (url,params)\n",
    "\n",
    "try:\n",
    "    response.raise_for_status()\n",
    "    data = response.json()\n",
    "\n",
    "    # Filter the returned data\n",
    "    clean_data = data[1]\n",
    "\n",
    "    # convert the list of Dict into a dataframe\n",
    "    df_data = pd.DataFrame(clean_data)\n",
    "\n",
    "    # clean up the dataframe\n",
    "    \n",
    "    print( df_data)\n",
    "except requests.exceptions.HTTPError as err:\n",
    "    print  (f'HTTP Error Occurred: {err}')\n",
    "except requests.exceptions.RequestException as err:\n",
    "    print ({'error': f'Request failed:  {err} '})\n",
    "except  KeyError:\n",
    "    print( {'error': 'Invalid response received. Check city name or API key'})"
=======
    "import requests\n",
    "import pandas as pd\n",
    "\n",
=======
>>>>>>> 08756710e795cb304d909774279ee7ecd250b7e6:notebooks/data_acquisition.ipynb
    "# Define the country, indicator, and date range\n",
    "country_code = 'KE'\n",
    "indicator_id = 'NY.GDP.MKTP.CD'\n",
    "date_range = '2010:2022'\n",
    "\n",
    "# Construct the correct API URL without the incorrect source\n",
    "url = f\"https://api.worldbank.org/v2/country/{country_code}/indicator/{indicator_id}\"\n",
    "\n",
    "# Set the parameters for the request\n",
    "params = {\n",
    "    'date': date_range,\n",
    "    'format': 'json'\n",
    "}\n",
    "\n",
    "# Send the GET request to the API\n",
    "response = requests.get(url, params=params)\n",
    "\n",
    "# Check if the request was successful\n",
    "if response.status_code == 200:\n",
    "    data = response.json()\n",
    "    \n",
    "    # The actual data is in the second element of the list\n",
    "    records = data[1]\n",
    "    \n",
    "    # Create a pandas DataFrame from the records\n",
    "    df = pd.DataFrame(records)\n",
    "    \n",
    "    # Clean up the DataFrame\n",
    "    df_clean = df[['date', 'value']].rename(columns={'date': 'Year', 'value': 'GDP_USD'})\n",
    "    \n",
    "    print(\"GDP for Kenya (2010-2022):\")\n",
    "    print(df_clean)\n",
    "else:\n",
    "    print(f\"Error: Failed to retrieve data. Status Code: {response.status_code}\")\n",
    "    print(\"Response Text:\", response.text)"
>>>>>>> beb1f1fff9b0ffeb344ad18f2b87191c368eea44
   ]
  },
  {
   "cell_type": "code",
<<<<<<< HEAD
   "execution_count": 47,
   "id": "59552732-8c13-4fc7-a48a-89d250fed3ec",
   "metadata": {},
   "outputs": [
    {
     "data": {
      "text/plain": [
       "Index(['indicator', 'country', 'countryiso3code', 'date', 'value', 'unit',\n",
       "       'obs_status', 'decimal'],\n",
       "      dtype='object')"
      ]
     },
     "execution_count": 47,
     "metadata": {},
     "output_type": "execute_result"
    }
   ],
   "source": [
    "df_data.columns"
=======
   "execution_count": 14,
   "id": "31a16492",
   "metadata": {},
   "outputs": [],
   "source": [
    "# data"
   ]
  },
  {
   "cell_type": "code",
   "execution_count": 16,
   "id": "3b85368d",
   "metadata": {},
   "outputs": [
    {
     "name": "stdout",
     "output_type": "stream",
     "text": [
      "GDP for the United Kingdom (2010-2022):\n",
      "    Year       GDP_USD\n",
      "0   2022  3.114042e+12\n",
      "1   2021  3.143323e+12\n",
      "2   2020  2.696778e+12\n",
      "3   2019  2.851407e+12\n",
      "4   2018  2.871340e+12\n",
      "5   2017  2.680148e+12\n",
      "6   2016  2.689107e+12\n",
      "7   2015  2.927911e+12\n",
      "8   2014  3.064708e+12\n",
      "9   2013  2.784854e+12\n",
      "10  2012  2.707090e+12\n",
      "11  2011  2.663806e+12\n",
      "12  2010  2.485483e+12\n"
     ]
    }
   ],
   "source": [
    "\n",
    "# Define the country, indicator, and date range\n",
    "country_code = 'GB' # United Kingdom's ISO code\n",
    "indicator_id = 'NY.GDP.MKTP.CD' # GDP in current US$\n",
    "date_range = '2010:2022'\n",
    "\n",
    "# Construct the API URL\n",
    "url = f\"https://api.worldbank.org/v2/country/{country_code}/indicator/{indicator_id}\"\n",
    "\n",
    "# Set the parameters for the request\n",
    "params = {\n",
    "    'date': date_range,\n",
    "    'format': 'json'\n",
    "}\n",
    "\n",
    "# Send the GET request to the API\n",
    "response = requests.get(url, params=params)\n",
    "\n",
    "# Check if the request was successful\n",
    "if response.status_code == 200:\n",
    "    data = response.json()\n",
    "    \n",
    "    # The actual data is in the second element of the list\n",
    "    records = data[1]\n",
    "    \n",
    "    # Create a pandas DataFrame from the records\n",
    "    df = pd.DataFrame(records)\n",
    "    \n",
    "    # Clean up the DataFrame\n",
    "    df_clean = df[['date', 'value']].rename(columns={'date': 'Year', 'value': 'GDP_USD'})\n",
    "    \n",
    "    print(\"GDP for the United Kingdom (2010-2022):\")\n",
    "    print(df_clean)\n",
    "else:\n",
    "    print(f\"Error: Failed to retrieve data. Status Code: {response.status_code}\")\n",
    "    print(\"Response Text:\", response.text)"
>>>>>>> beb1f1fff9b0ffeb344ad18f2b87191c368eea44
   ]
  },
  {
   "cell_type": "code",
<<<<<<< HEAD
   "execution_count": 48,
   "id": "437ce3d6-03d6-478b-833c-c08558e26c46",
=======
   "execution_count": 17,
   "id": "e21c4f67",
   "metadata": {},
   "outputs": [
    {
     "name": "stdout",
     "output_type": "stream",
     "text": [
      "Kenya: GDP, Life Expectancy, and Fertility Rate (2010–2022)\n",
      "    Year       GDP_USD  Life_Expectancy  Fertility_Rate\n",
      "0   2022  1.144490e+11           63.549           3.262\n",
      "1   2021  1.097037e+11           61.225           3.312\n",
      "2   2020  1.006575e+11           61.596           3.364\n",
      "3   2019  1.003784e+11           62.939           3.433\n",
      "4   2018  9.220298e+10           62.825           3.536\n",
      "5   2017  8.203651e+10           62.725           3.609\n",
      "6   2016  7.481514e+10           62.526           3.689\n",
      "7   2015  7.012045e+10           62.279           3.766\n",
      "8   2014  6.828580e+10           61.990           3.843\n",
      "9   2013  6.167144e+10           61.729           3.955\n",
      "10  2012  5.639670e+10           61.537           4.116\n",
      "11  2011  4.686947e+10           61.283           4.284\n",
      "12  2010  4.540562e+10           60.915           4.446\n"
     ]
    }
   ],
   "source": [
    "import requests\n",
    "import pandas as pd\n",
    "\n",
    "# Define the country and date range\n",
    "country_code = 'KE'\n",
    "date_range = '2010:2022'\n",
    "\n",
    "# Define World Bank indicator codes for GDP, life expectancy, and fertility rate\n",
    "indicators = {\n",
    "    'GDP_USD': 'NY.GDP.MKTP.CD',\n",
    "    'Life_Expectancy': 'SP.DYN.LE00.IN',\n",
    "    'Fertility_Rate': 'SP.DYN.TFRT.IN'\n",
    "}\n",
    "\n",
    "# Empty dictionary to hold individual DataFrames\n",
    "data_frames = {}\n",
    "\n",
    "# Loop through indicators and request data\n",
    "for label, indicator_id in indicators.items():\n",
    "    url = f\"https://api.worldbank.org/v2/country/{country_code}/indicator/{indicator_id}\"\n",
    "    params = {\n",
    "        'date': date_range,\n",
    "        'format': 'json',\n",
    "        'per_page': 100  # Increase page size just in case\n",
    "    }\n",
    "    \n",
    "    response = requests.get(url, params=params)\n",
    "    \n",
    "    if response.status_code == 200:\n",
    "        data = response.json()\n",
    "        records = data[1]\n",
    "        df = pd.DataFrame(records)\n",
    "        df_clean = df[['date', 'value']].rename(columns={'date': 'Year', 'value': label})\n",
    "        df_clean['Year'] = df_clean['Year'].astype(int)\n",
    "        data_frames[label] = df_clean\n",
    "    else:\n",
    "        print(f\"Failed to retrieve {label}: {response.status_code}\")\n",
    "        print(\"Response Text:\", response.text)\n",
    "\n",
    "# Merge all dataframes on 'Year'\n",
    "merged_df = data_frames['GDP_USD']\n",
    "for label in ['Life_Expectancy', 'Fertility_Rate']:\n",
    "    merged_df = pd.merge(merged_df, data_frames[label], on='Year', how='outer')\n",
    "\n",
    "# Sort by Year\n",
    "merged_df = merged_df.sort_values('Year', ascending=False).reset_index(drop=True)\n",
    "\n",
    "# Print the result\n",
    "print(\"Kenya: GDP, Life Expectancy, and Fertility Rate (2010–2022)\")\n",
    "print(merged_df)\n"
   ]
  },
  {
   "cell_type": "code",
   "execution_count": 31,
   "id": "8e52bb9e",
   "metadata": {},
   "outputs": [],
   "source": [
    "# Getting World Bank data via API for the UK\n",
    "\n",
    "country_code = \"GB\" # ISO code for the country\n",
    "indicator_id = \"NY.GDP.MKTP.CD\"\n",
    "\n",
    "date_range = \"2008:2022\"\n",
    "\n",
    "# Data source\n",
    "url = f\"https://api.worldbank.org/v2/country/{country_code}/indicator/{indicator_id}\"\n",
    "\n",
    "# Set the parameters for the request\n",
    "params = {\n",
    "    'date': date_range,\n",
    "    'format': 'json'\n",
    "}\n",
    "\n",
    "# Send a GET request to the remote resource\n",
    "response = requests.get(url, params)\n",
    "\n",
    "# Process returned data\n",
    "if response.status_code == 200:\n",
    "    dev_data = response.json()\n",
    "    \n",
    "    # Filter the returned data t\n",
    "    gb_data = dev_data[1]\n",
    "    \n",
    "    # Convert the list of dictionaries into a dataframe\n",
    "    gb_df = pd.DataFrame(gb_data)\n",
    "    \n",
    "    # Clean up the dataframe\n",
    "    gb_df = gb_df[[\"date\",\"value\"]]\n",
    "    \n",
    "    # Rename the colums\n",
    "    gb_df = gb_df.rename(columns={\"date\": \"Year\", \"value\": \"GDP_USD\"})\n",
    "    \n",
    "else:\n",
    "    pass\n"
   ]
  },
  {
   "cell_type": "code",
<<<<<<< HEAD:notebooks/my_data_acquisition.ipynb
   "execution_count": 30,
   "id": "4cb7031f",
>>>>>>> beb1f1fff9b0ffeb344ad18f2b87191c368eea44
=======
   "execution_count": 32,
   "id": "2524ee47",
>>>>>>> 08756710e795cb304d909774279ee7ecd250b7e6:notebooks/data_acquisition.ipynb
   "metadata": {},
   "outputs": [
    {
     "data": {
      "text/html": [
       "<div>\n",
       "<style scoped>\n",
       "    .dataframe tbody tr th:only-of-type {\n",
       "        vertical-align: middle;\n",
       "    }\n",
       "\n",
       "    .dataframe tbody tr th {\n",
       "        vertical-align: top;\n",
       "    }\n",
       "\n",
       "    .dataframe thead th {\n",
       "        text-align: right;\n",
       "    }\n",
       "</style>\n",
       "<table border=\"1\" class=\"dataframe\">\n",
       "  <thead>\n",
       "    <tr style=\"text-align: right;\">\n",
       "      <th></th>\n",
<<<<<<< HEAD:notebooks/my_data_acquisition.ipynb
<<<<<<< HEAD
       "      <th>indicator</th>\n",
       "      <th>country</th>\n",
       "      <th>countryiso3code</th>\n",
       "      <th>date</th>\n",
       "      <th>value</th>\n",
       "      <th>unit</th>\n",
       "      <th>obs_status</th>\n",
       "      <th>decimal</th>\n",
=======
       "      <th>date</th>\n",
       "      <th>value</th>\n",
>>>>>>> beb1f1fff9b0ffeb344ad18f2b87191c368eea44
=======
       "      <th>Year</th>\n",
       "      <th>GDP_USD</th>\n",
>>>>>>> 08756710e795cb304d909774279ee7ecd250b7e6:notebooks/data_acquisition.ipynb
       "    </tr>\n",
       "  </thead>\n",
       "  <tbody>\n",
       "    <tr>\n",
       "      <th>0</th>\n",
<<<<<<< HEAD
       "      <td>{'id': 'NY.GDP.MKTP.CD', 'value': 'GDP (curren...</td>\n",
       "      <td>{'id': 'GB', 'value': 'United Kingdom'}</td>\n",
       "      <td>GBR</td>\n",
       "      <td>2022</td>\n",
       "      <td>3.114042e+12</td>\n",
       "      <td></td>\n",
       "      <td></td>\n",
       "      <td>0</td>\n",
       "    </tr>\n",
       "    <tr>\n",
       "      <th>1</th>\n",
       "      <td>{'id': 'NY.GDP.MKTP.CD', 'value': 'GDP (curren...</td>\n",
       "      <td>{'id': 'GB', 'value': 'United Kingdom'}</td>\n",
       "      <td>GBR</td>\n",
       "      <td>2021</td>\n",
       "      <td>3.143323e+12</td>\n",
       "      <td></td>\n",
       "      <td></td>\n",
       "      <td>0</td>\n",
       "    </tr>\n",
       "    <tr>\n",
       "      <th>2</th>\n",
       "      <td>{'id': 'NY.GDP.MKTP.CD', 'value': 'GDP (curren...</td>\n",
       "      <td>{'id': 'GB', 'value': 'United Kingdom'}</td>\n",
       "      <td>GBR</td>\n",
       "      <td>2020</td>\n",
       "      <td>2.696778e+12</td>\n",
       "      <td></td>\n",
       "      <td></td>\n",
       "      <td>0</td>\n",
       "    </tr>\n",
       "    <tr>\n",
       "      <th>3</th>\n",
       "      <td>{'id': 'NY.GDP.MKTP.CD', 'value': 'GDP (curren...</td>\n",
       "      <td>{'id': 'GB', 'value': 'United Kingdom'}</td>\n",
       "      <td>GBR</td>\n",
       "      <td>2019</td>\n",
       "      <td>2.851407e+12</td>\n",
       "      <td></td>\n",
       "      <td></td>\n",
       "      <td>0</td>\n",
       "    </tr>\n",
       "    <tr>\n",
       "      <th>4</th>\n",
       "      <td>{'id': 'NY.GDP.MKTP.CD', 'value': 'GDP (curren...</td>\n",
       "      <td>{'id': 'GB', 'value': 'United Kingdom'}</td>\n",
       "      <td>GBR</td>\n",
       "      <td>2018</td>\n",
       "      <td>2.871340e+12</td>\n",
       "      <td></td>\n",
       "      <td></td>\n",
       "      <td>0</td>\n",
=======
       "      <td>2022</td>\n",
       "      <td>3.114042e+12</td>\n",
       "    </tr>\n",
       "    <tr>\n",
       "      <th>1</th>\n",
       "      <td>2021</td>\n",
       "      <td>3.143323e+12</td>\n",
       "    </tr>\n",
       "    <tr>\n",
       "      <th>2</th>\n",
       "      <td>2020</td>\n",
       "      <td>2.696778e+12</td>\n",
       "    </tr>\n",
       "    <tr>\n",
       "      <th>3</th>\n",
       "      <td>2019</td>\n",
       "      <td>2.851407e+12</td>\n",
       "    </tr>\n",
       "    <tr>\n",
       "      <th>4</th>\n",
       "      <td>2018</td>\n",
       "      <td>2.871340e+12</td>\n",
       "    </tr>\n",
       "    <tr>\n",
       "      <th>5</th>\n",
       "      <td>2017</td>\n",
       "      <td>2.680148e+12</td>\n",
       "    </tr>\n",
       "    <tr>\n",
       "      <th>6</th>\n",
       "      <td>2016</td>\n",
       "      <td>2.689107e+12</td>\n",
       "    </tr>\n",
       "    <tr>\n",
       "      <th>7</th>\n",
       "      <td>2015</td>\n",
       "      <td>2.927911e+12</td>\n",
       "    </tr>\n",
       "    <tr>\n",
       "      <th>8</th>\n",
       "      <td>2014</td>\n",
       "      <td>3.064708e+12</td>\n",
       "    </tr>\n",
       "    <tr>\n",
       "      <th>9</th>\n",
       "      <td>2013</td>\n",
       "      <td>2.784854e+12</td>\n",
       "    </tr>\n",
       "    <tr>\n",
       "      <th>10</th>\n",
       "      <td>2012</td>\n",
       "      <td>2.707090e+12</td>\n",
       "    </tr>\n",
       "    <tr>\n",
       "      <th>11</th>\n",
       "      <td>2011</td>\n",
       "      <td>2.663806e+12</td>\n",
       "    </tr>\n",
       "    <tr>\n",
       "      <th>12</th>\n",
       "      <td>2010</td>\n",
       "      <td>2.485483e+12</td>\n",
       "    </tr>\n",
       "    <tr>\n",
       "      <th>13</th>\n",
       "      <td>2009</td>\n",
       "      <td>2.412840e+12</td>\n",
       "    </tr>\n",
       "    <tr>\n",
       "      <th>14</th>\n",
       "      <td>2008</td>\n",
       "      <td>2.929412e+12</td>\n",
>>>>>>> beb1f1fff9b0ffeb344ad18f2b87191c368eea44
       "    </tr>\n",
       "  </tbody>\n",
       "</table>\n",
       "</div>"
      ],
      "text/plain": [
<<<<<<< HEAD:notebooks/my_data_acquisition.ipynb
<<<<<<< HEAD
       "                                           indicator  \\\n",
       "0  {'id': 'NY.GDP.MKTP.CD', 'value': 'GDP (curren...   \n",
       "1  {'id': 'NY.GDP.MKTP.CD', 'value': 'GDP (curren...   \n",
       "2  {'id': 'NY.GDP.MKTP.CD', 'value': 'GDP (curren...   \n",
       "3  {'id': 'NY.GDP.MKTP.CD', 'value': 'GDP (curren...   \n",
       "4  {'id': 'NY.GDP.MKTP.CD', 'value': 'GDP (curren...   \n",
       "\n",
       "                                   country countryiso3code  date  \\\n",
       "0  {'id': 'GB', 'value': 'United Kingdom'}             GBR  2022   \n",
       "1  {'id': 'GB', 'value': 'United Kingdom'}             GBR  2021   \n",
       "2  {'id': 'GB', 'value': 'United Kingdom'}             GBR  2020   \n",
       "3  {'id': 'GB', 'value': 'United Kingdom'}             GBR  2019   \n",
       "4  {'id': 'GB', 'value': 'United Kingdom'}             GBR  2018   \n",
       "\n",
       "          value unit obs_status  decimal  \n",
       "0  3.114042e+12                        0  \n",
       "1  3.143323e+12                        0  \n",
       "2  2.696778e+12                        0  \n",
       "3  2.851407e+12                        0  \n",
       "4  2.871340e+12                        0  "
      ]
     },
     "execution_count": 48,
=======
       "    date         value\n",
=======
       "    Year       GDP_USD\n",
>>>>>>> 08756710e795cb304d909774279ee7ecd250b7e6:notebooks/data_acquisition.ipynb
       "0   2022  3.114042e+12\n",
       "1   2021  3.143323e+12\n",
       "2   2020  2.696778e+12\n",
       "3   2019  2.851407e+12\n",
       "4   2018  2.871340e+12\n",
       "5   2017  2.680148e+12\n",
       "6   2016  2.689107e+12\n",
       "7   2015  2.927911e+12\n",
       "8   2014  3.064708e+12\n",
       "9   2013  2.784854e+12\n",
       "10  2012  2.707090e+12\n",
       "11  2011  2.663806e+12\n",
       "12  2010  2.485483e+12\n",
       "13  2009  2.412840e+12\n",
       "14  2008  2.929412e+12"
      ]
     },
<<<<<<< HEAD:notebooks/my_data_acquisition.ipynb
     "execution_count": 30,
>>>>>>> beb1f1fff9b0ffeb344ad18f2b87191c368eea44
=======
     "execution_count": 32,
>>>>>>> 08756710e795cb304d909774279ee7ecd250b7e6:notebooks/data_acquisition.ipynb
     "metadata": {},
     "output_type": "execute_result"
    }
   ],
   "source": [
<<<<<<< HEAD
    "df_data.head()"
=======
    "gb_df"
>>>>>>> beb1f1fff9b0ffeb344ad18f2b87191c368eea44
   ]
  },
  {
   "cell_type": "code",
<<<<<<< HEAD:notebooks/my_data_acquisition.ipynb
   "execution_count": null,
<<<<<<< HEAD
   "id": "fcb4cc43-fb5e-4c00-88c4-2970739c0029",
=======
   "id": "db120343",
>>>>>>> beb1f1fff9b0ffeb344ad18f2b87191c368eea44
=======
   "execution_count": 7,
   "id": "41b76179",
>>>>>>> 08756710e795cb304d909774279ee7ecd250b7e6:notebooks/data_acquisition.ipynb
   "metadata": {},
   "outputs": [],
   "source": [
    "def get_worldbank_data(country_code, indicator_code, indicator_name, date_range):\n",
    "    '''\n",
    "    get_worldbank_data gets development indicator data \n",
    "    for a given country.\n",
    "    \n",
    "    Params:\n",
    "    country_name:\n",
    "    indicator_code: \n",
    "    \n",
    "    Returns:\n",
    "    dataframe of the indicator per year over a given year range.\n",
    "    \n",
    "    '''\n",
    "    url = f\"https://api.worldbank.org/v2/country/{country_code}/indicator/{indicator_code}\"\n",
    "    params = {\n",
    "    'date': date_range,\n",
    "    'format': 'json'}\n",
    "    \n",
    "    # Send the GET request to the API\n",
    "    response = requests.get(url, params=params)\n",
    "    \n",
    "    # Process returned data\n",
    "    if response.status_code == 200:\n",
    "        indicator_data = response.json()\n",
    "\n",
    "        # Filter the returned data t\n",
    "        indicator_data = indicator_data[1]\n",
    "\n",
    "        # Convert the list of dictionaries into a dataframe\n",
    "        indicator_data = pd.DataFrame(indicator_data)\n",
    "\n",
    "        # Clean up the dataframe\n",
    "        indicator_data = indicator_data[[\"date\",\"value\"]]\n",
    "\n",
    "        # Rename the colums\n",
    "        indicator_data = indicator_data.rename(columns={\"date\": \"Year\", \"value\": f'{indicator_name}'})\n",
    "        return indicator_data\n",
    "\n",
    "\n",
    "    else:\n",
    "        print(\"Error getting indicator data\", response.status_code)\n",
    "\n",
    "    \n",
    "    "
   ]
  },
  {
   "cell_type": "code",
   "execution_count": 9,
   "id": "d13b60a9",
   "metadata": {},
   "outputs": [],
   "source": [
    "# Get GDP data for Kenya for 2008:2022\n",
    "date_range = \"2008:2022\"\n",
    "\n",
    "# Call the function to get the dataframe\n",
    "gdp_df = get_worldbank_data('KE', 'NY.GDP.MKTP.CD', 'gdp', date_range)"
   ]
  },
  {
   "cell_type": "code",
   "execution_count": 11,
   "id": "615d9d9d",
   "metadata": {},
   "outputs": [],
   "source": [
    "fertitility_df = get_worldbank_data('KE', 'SP.DYN.TFRT.IN', 'fertility', date_range)"
   ]
  },
  {
   "cell_type": "code",
   "execution_count": 13,
   "id": "ed54a1ce",
   "metadata": {},
   "outputs": [
    {
     "data": {
      "text/html": [
       "<div>\n",
       "<style scoped>\n",
       "    .dataframe tbody tr th:only-of-type {\n",
       "        vertical-align: middle;\n",
       "    }\n",
       "\n",
       "    .dataframe tbody tr th {\n",
       "        vertical-align: top;\n",
       "    }\n",
       "\n",
       "    .dataframe thead th {\n",
       "        text-align: right;\n",
       "    }\n",
       "</style>\n",
       "<table border=\"1\" class=\"dataframe\">\n",
       "  <thead>\n",
       "    <tr style=\"text-align: right;\">\n",
       "      <th></th>\n",
       "      <th>Year</th>\n",
       "      <th>fertility</th>\n",
       "    </tr>\n",
       "  </thead>\n",
       "  <tbody>\n",
       "    <tr>\n",
       "      <th>0</th>\n",
       "      <td>2022</td>\n",
       "      <td>3.262</td>\n",
       "    </tr>\n",
       "    <tr>\n",
       "      <th>1</th>\n",
       "      <td>2021</td>\n",
       "      <td>3.312</td>\n",
       "    </tr>\n",
       "    <tr>\n",
       "      <th>2</th>\n",
       "      <td>2020</td>\n",
       "      <td>3.364</td>\n",
       "    </tr>\n",
       "    <tr>\n",
       "      <th>3</th>\n",
       "      <td>2019</td>\n",
       "      <td>3.433</td>\n",
       "    </tr>\n",
       "    <tr>\n",
       "      <th>4</th>\n",
       "      <td>2018</td>\n",
       "      <td>3.536</td>\n",
       "    </tr>\n",
       "  </tbody>\n",
       "</table>\n",
       "</div>"
      ],
      "text/plain": [
       "   Year  fertility\n",
       "0  2022      3.262\n",
       "1  2021      3.312\n",
       "2  2020      3.364\n",
       "3  2019      3.433\n",
       "4  2018      3.536"
      ]
     },
     "execution_count": 13,
     "metadata": {},
     "output_type": "execute_result"
    }
   ],
   "source": [
    "fertitility_df.head()"
   ]
  },
  {
   "cell_type": "code",
   "execution_count": null,
<<<<<<< HEAD:notebooks/my_data_acquisition.ipynb
<<<<<<< HEAD
   "id": "8fde5ea0-64ae-41b1-ae01-4a11f468450c",
=======
   "id": "d9003776",
   "metadata": {},
   "outputs": [],
   "source": []
  },
  {
   "cell_type": "code",
   "execution_count": null,
   "id": "ca17cac2",
   "metadata": {},
   "outputs": [],
   "source": []
  },
  {
   "cell_type": "code",
   "execution_count": null,
   "id": "6de3820c",
>>>>>>> beb1f1fff9b0ffeb344ad18f2b87191c368eea44
=======
   "id": "bbad2ace",
>>>>>>> 08756710e795cb304d909774279ee7ecd250b7e6:notebooks/data_acquisition.ipynb
   "metadata": {},
   "outputs": [],
   "source": []
  }
 ],
 "metadata": {
  "kernelspec": {
   "display_name": "Python 3 (ipykernel)",
   "language": "python",
   "name": "python3"
  },
  "language_info": {
   "codemirror_mode": {
    "name": "ipython",
    "version": 3
   },
   "file_extension": ".py",
   "mimetype": "text/x-python",
   "name": "python",
   "nbconvert_exporter": "python",
   "pygments_lexer": "ipython3",
   "version": "3.12.11"
  }
 },
 "nbformat": 4,
 "nbformat_minor": 5
}

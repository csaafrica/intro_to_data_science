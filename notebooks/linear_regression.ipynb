{
 "cells": [
  {
   "cell_type": "code",
   "execution_count": 7,
   "id": "db284da0",
   "metadata": {},
   "outputs": [],
   "source": [
    "# Import libraries\n",
    "import pandas as pd \n",
    "from sklearn.preprocessing import RobustScaler\n",
    "from sklearn.model_selection import train_test_split\n",
    "# from sklearn.model_selection import train_test_split\n",
    "from sklearn.linear_model import LinearRegression\n",
    "from sklearn.metrics import r2_score\n",
    "\n",
    "import matplotlib.pyplot as plt\n",
    "import numpy as np\n",
    "\n",
    "%matplotlib inline"
   ]
  },
  {
   "cell_type": "code",
   "execution_count": 3,
   "id": "c8c9874b",
   "metadata": {},
   "outputs": [
    {
     "data": {
      "text/html": [
       "<div>\n",
       "<style scoped>\n",
       "    .dataframe tbody tr th:only-of-type {\n",
       "        vertical-align: middle;\n",
       "    }\n",
       "\n",
       "    .dataframe tbody tr th {\n",
       "        vertical-align: top;\n",
       "    }\n",
       "\n",
       "    .dataframe thead th {\n",
       "        text-align: right;\n",
       "    }\n",
       "</style>\n",
       "<table border=\"1\" class=\"dataframe\">\n",
       "  <thead>\n",
       "    <tr style=\"text-align: right;\">\n",
       "      <th></th>\n",
       "      <th>real_temperature</th>\n",
       "      <th>humidity</th>\n",
       "      <th>wind_speed</th>\n",
       "    </tr>\n",
       "  </thead>\n",
       "  <tbody>\n",
       "    <tr>\n",
       "      <th>0</th>\n",
       "      <td>-1.338983</td>\n",
       "      <td>1.241935</td>\n",
       "      <td>-0.881437</td>\n",
       "    </tr>\n",
       "    <tr>\n",
       "      <th>1</th>\n",
       "      <td>-0.491525</td>\n",
       "      <td>0.500000</td>\n",
       "      <td>-0.725749</td>\n",
       "    </tr>\n",
       "    <tr>\n",
       "      <th>2</th>\n",
       "      <td>-0.627119</td>\n",
       "      <td>0.387097</td>\n",
       "      <td>0.095808</td>\n",
       "    </tr>\n",
       "    <tr>\n",
       "      <th>3</th>\n",
       "      <td>-0.491525</td>\n",
       "      <td>0.467742</td>\n",
       "      <td>0.528196</td>\n",
       "    </tr>\n",
       "    <tr>\n",
       "      <th>4</th>\n",
       "      <td>-0.491525</td>\n",
       "      <td>0.370968</td>\n",
       "      <td>0.610778</td>\n",
       "    </tr>\n",
       "  </tbody>\n",
       "</table>\n",
       "</div>"
      ],
      "text/plain": [
       "   real_temperature  humidity  wind_speed\n",
       "0         -1.338983  1.241935   -0.881437\n",
       "1         -0.491525  0.500000   -0.725749\n",
       "2         -0.627119  0.387097    0.095808\n",
       "3         -0.491525  0.467742    0.528196\n",
       "4         -0.491525  0.370968    0.610778"
      ]
     },
     "execution_count": 3,
     "metadata": {},
     "output_type": "execute_result"
    }
   ],
   "source": [
    "# Import data\n",
    "bikes_filepath = '../data/bikes.csv'\n",
    "bikes_imported_data = pd.read_csv(filepath_or_buffer=bikes_filepath, delimiter=\",\")\n",
    "\n",
    "# Clean missing data\n",
    "bikes_clean_data = bikes_imported_data.interpolate(method='linear')\n",
    "bikes_clean_data = bikes_clean_data.fillna(method=\"bfill\")\n",
    "\n",
    "# Set our target variable as the count\n",
    "y = bikes_clean_data[\"count\"].to_numpy()\n",
    "\n",
    "# Create scaler object\n",
    "rb_scaler = RobustScaler()\n",
    "\n",
    "# We are just going to use numerical data to begin with\n",
    "# Drop our count and multicolinear feel_temperature\n",
    "numerical_data = bikes_clean_data.select_dtypes(include='number')\n",
    "numerical_data = numerical_data.drop(columns=[\"count\", \"feel_temperature\"])\n",
    "\n",
    "# Scale the data.\n",
    "scaled_features = rb_scaler.fit_transform(numerical_data)\n",
    "scaled_data = pd.DataFrame(scaled_features, columns=numerical_data.columns)\n",
    "\n",
    "scaled_data.head()"
   ]
  },
  {
   "cell_type": "code",
   "execution_count": 8,
   "id": "affdff88",
   "metadata": {},
   "outputs": [],
   "source": [
    "# Using all of the columns from the scaled data.\n",
    "X = scaled_data.to_numpy()\n",
    "\n",
    "# Split the training and test data.\n",
    "X_train, X_test, y_train, y_test = train_test_split(X, y, test_size=0.2, random_state=1234)\n",
    "\n",
    "# Create model object\n",
    "linear_model_multi_variable = LinearRegression()\n",
    "\n",
    "# Fit model\n",
    "linear_model_multi_variable.fit(X_train, y_train);"
   ]
  },
  {
   "cell_type": "code",
   "execution_count": null,
   "id": "1364e03e",
   "metadata": {},
   "outputs": [],
   "source": []
  }
 ],
 "metadata": {
  "kernelspec": {
   "display_name": "Python 3 (ipykernel)",
   "language": "python",
   "name": "python3"
  },
  "language_info": {
   "codemirror_mode": {
    "name": "ipython",
    "version": 3
   },
   "file_extension": ".py",
   "mimetype": "text/x-python",
   "name": "python",
   "nbconvert_exporter": "python",
   "pygments_lexer": "ipython3",
   "version": "3.11.5"
  }
 },
 "nbformat": 4,
 "nbformat_minor": 5
}

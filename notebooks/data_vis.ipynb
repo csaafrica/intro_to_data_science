{
 "cells": [
  {
   "cell_type": "markdown",
   "id": "56b7fa38",
   "metadata": {},
   "source": [
    "# Data Visualisation"
   ]
  },
  {
   "cell_type": "code",
   "execution_count": 2,
   "id": "4f83bb88",
   "metadata": {},
   "outputs": [],
   "source": [
    "# Import required libraries\n",
    "import numpy as np\n",
    "import pandas as pd\n",
    "import matplotlib.pyplot as plt\n",
    "import seaborn as sns\n"
   ]
  },
  {
   "cell_type": "code",
   "execution_count": 15,
   "id": "dc700bea",
   "metadata": {},
   "outputs": [],
   "source": [
    "# Load data\n",
    "gapminder = pd.read_csv(\"../data/gapminder.csv\")"
   ]
  },
  {
   "cell_type": "code",
   "execution_count": 16,
   "id": "7799311c",
   "metadata": {},
   "outputs": [
    {
     "data": {
      "text/html": [
       "<div>\n",
       "<style scoped>\n",
       "    .dataframe tbody tr th:only-of-type {\n",
       "        vertical-align: middle;\n",
       "    }\n",
       "\n",
       "    .dataframe tbody tr th {\n",
       "        vertical-align: top;\n",
       "    }\n",
       "\n",
       "    .dataframe thead th {\n",
       "        text-align: right;\n",
       "    }\n",
       "</style>\n",
       "<table border=\"1\" class=\"dataframe\">\n",
       "  <thead>\n",
       "    <tr style=\"text-align: right;\">\n",
       "      <th></th>\n",
       "      <th>country</th>\n",
       "      <th>continent</th>\n",
       "      <th>year</th>\n",
       "      <th>life_exp</th>\n",
       "      <th>pop</th>\n",
       "      <th>gdp_per_cap</th>\n",
       "      <th>infant_mortality</th>\n",
       "      <th>fertility</th>\n",
       "    </tr>\n",
       "  </thead>\n",
       "  <tbody>\n",
       "    <tr>\n",
       "      <th>0</th>\n",
       "      <td>Afghanistan</td>\n",
       "      <td>Asia</td>\n",
       "      <td>1952</td>\n",
       "      <td>28.801</td>\n",
       "      <td>8425333.0</td>\n",
       "      <td>779.445314</td>\n",
       "      <td>NaN</td>\n",
       "      <td>NaN</td>\n",
       "    </tr>\n",
       "    <tr>\n",
       "      <th>1</th>\n",
       "      <td>Afghanistan</td>\n",
       "      <td>Asia</td>\n",
       "      <td>1957</td>\n",
       "      <td>30.332</td>\n",
       "      <td>9240934.0</td>\n",
       "      <td>820.853030</td>\n",
       "      <td>NaN</td>\n",
       "      <td>NaN</td>\n",
       "    </tr>\n",
       "    <tr>\n",
       "      <th>2</th>\n",
       "      <td>Afghanistan</td>\n",
       "      <td>Asia</td>\n",
       "      <td>1962</td>\n",
       "      <td>31.997</td>\n",
       "      <td>10267083.0</td>\n",
       "      <td>853.100710</td>\n",
       "      <td>NaN</td>\n",
       "      <td>NaN</td>\n",
       "    </tr>\n",
       "    <tr>\n",
       "      <th>3</th>\n",
       "      <td>Afghanistan</td>\n",
       "      <td>Asia</td>\n",
       "      <td>1967</td>\n",
       "      <td>34.020</td>\n",
       "      <td>11537966.0</td>\n",
       "      <td>836.197138</td>\n",
       "      <td>NaN</td>\n",
       "      <td>NaN</td>\n",
       "    </tr>\n",
       "    <tr>\n",
       "      <th>4</th>\n",
       "      <td>Afghanistan</td>\n",
       "      <td>Asia</td>\n",
       "      <td>1972</td>\n",
       "      <td>36.088</td>\n",
       "      <td>13079460.0</td>\n",
       "      <td>739.981106</td>\n",
       "      <td>NaN</td>\n",
       "      <td>NaN</td>\n",
       "    </tr>\n",
       "  </tbody>\n",
       "</table>\n",
       "</div>"
      ],
      "text/plain": [
       "       country continent  year  life_exp         pop  gdp_per_cap  \\\n",
       "0  Afghanistan      Asia  1952    28.801   8425333.0   779.445314   \n",
       "1  Afghanistan      Asia  1957    30.332   9240934.0   820.853030   \n",
       "2  Afghanistan      Asia  1962    31.997  10267083.0   853.100710   \n",
       "3  Afghanistan      Asia  1967    34.020  11537966.0   836.197138   \n",
       "4  Afghanistan      Asia  1972    36.088  13079460.0   739.981106   \n",
       "\n",
       "   infant_mortality  fertility  \n",
       "0               NaN        NaN  \n",
       "1               NaN        NaN  \n",
       "2               NaN        NaN  \n",
       "3               NaN        NaN  \n",
       "4               NaN        NaN  "
      ]
     },
     "execution_count": 16,
     "metadata": {},
     "output_type": "execute_result"
    }
   ],
   "source": [
    "gapminder.head()"
   ]
  },
  {
   "cell_type": "code",
   "execution_count": 5,
   "id": "0796eb78",
   "metadata": {},
   "outputs": [
    {
     "name": "stdout",
     "output_type": "stream",
     "text": [
      "<class 'pandas.core.frame.DataFrame'>\n",
      "RangeIndex: 1704 entries, 0 to 1703\n",
      "Data columns (total 8 columns):\n",
      " #   Column            Non-Null Count  Dtype  \n",
      "---  ------            --------------  -----  \n",
      " 0   country           1704 non-null   object \n",
      " 1   continent         1704 non-null   object \n",
      " 2   year              1704 non-null   int64  \n",
      " 3   life_exp          1704 non-null   float64\n",
      " 4   pop               1704 non-null   float64\n",
      " 5   gdp_per_cap       1704 non-null   float64\n",
      " 6   infant_mortality  1224 non-null   float64\n",
      " 7   fertility         1330 non-null   float64\n",
      "dtypes: float64(5), int64(1), object(2)\n",
      "memory usage: 106.6+ KB\n"
     ]
    }
   ],
   "source": [
    "gapminder.info()"
   ]
  },
  {
   "cell_type": "code",
   "execution_count": 6,
   "id": "02b31369",
   "metadata": {},
   "outputs": [
    {
     "data": {
      "text/html": [
       "<div>\n",
       "<style scoped>\n",
       "    .dataframe tbody tr th:only-of-type {\n",
       "        vertical-align: middle;\n",
       "    }\n",
       "\n",
       "    .dataframe tbody tr th {\n",
       "        vertical-align: top;\n",
       "    }\n",
       "\n",
       "    .dataframe thead th {\n",
       "        text-align: right;\n",
       "    }\n",
       "</style>\n",
       "<table border=\"1\" class=\"dataframe\">\n",
       "  <thead>\n",
       "    <tr style=\"text-align: right;\">\n",
       "      <th></th>\n",
       "      <th>year</th>\n",
       "      <th>life_exp</th>\n",
       "      <th>pop</th>\n",
       "      <th>gdp_per_cap</th>\n",
       "      <th>infant_mortality</th>\n",
       "      <th>fertility</th>\n",
       "    </tr>\n",
       "  </thead>\n",
       "  <tbody>\n",
       "    <tr>\n",
       "      <th>count</th>\n",
       "      <td>1704.00000</td>\n",
       "      <td>1704.000000</td>\n",
       "      <td>1.704000e+03</td>\n",
       "      <td>1704.000000</td>\n",
       "      <td>1224.000000</td>\n",
       "      <td>1330.000000</td>\n",
       "    </tr>\n",
       "    <tr>\n",
       "      <th>mean</th>\n",
       "      <td>1979.50000</td>\n",
       "      <td>59.474439</td>\n",
       "      <td>2.960121e+07</td>\n",
       "      <td>7215.327081</td>\n",
       "      <td>63.709665</td>\n",
       "      <td>4.407105</td>\n",
       "    </tr>\n",
       "    <tr>\n",
       "      <th>std</th>\n",
       "      <td>17.26533</td>\n",
       "      <td>12.917107</td>\n",
       "      <td>1.061579e+08</td>\n",
       "      <td>9857.454543</td>\n",
       "      <td>50.454764</td>\n",
       "      <td>2.084137</td>\n",
       "    </tr>\n",
       "    <tr>\n",
       "      <th>min</th>\n",
       "      <td>1952.00000</td>\n",
       "      <td>23.599000</td>\n",
       "      <td>6.001100e+04</td>\n",
       "      <td>241.165876</td>\n",
       "      <td>2.200000</td>\n",
       "      <td>0.920000</td>\n",
       "    </tr>\n",
       "    <tr>\n",
       "      <th>25%</th>\n",
       "      <td>1965.75000</td>\n",
       "      <td>48.198000</td>\n",
       "      <td>2.793664e+06</td>\n",
       "      <td>1202.060309</td>\n",
       "      <td>18.700000</td>\n",
       "      <td>2.350000</td>\n",
       "    </tr>\n",
       "    <tr>\n",
       "      <th>50%</th>\n",
       "      <td>1979.50000</td>\n",
       "      <td>60.712500</td>\n",
       "      <td>7.023596e+06</td>\n",
       "      <td>3531.846988</td>\n",
       "      <td>52.550000</td>\n",
       "      <td>4.500000</td>\n",
       "    </tr>\n",
       "    <tr>\n",
       "      <th>75%</th>\n",
       "      <td>1993.25000</td>\n",
       "      <td>70.845500</td>\n",
       "      <td>1.958522e+07</td>\n",
       "      <td>9325.462346</td>\n",
       "      <td>101.675000</td>\n",
       "      <td>6.347500</td>\n",
       "    </tr>\n",
       "    <tr>\n",
       "      <th>max</th>\n",
       "      <td>2007.00000</td>\n",
       "      <td>82.603000</td>\n",
       "      <td>1.318683e+09</td>\n",
       "      <td>113523.132900</td>\n",
       "      <td>226.000000</td>\n",
       "      <td>8.420000</td>\n",
       "    </tr>\n",
       "  </tbody>\n",
       "</table>\n",
       "</div>"
      ],
      "text/plain": [
       "             year     life_exp           pop    gdp_per_cap  infant_mortality  \\\n",
       "count  1704.00000  1704.000000  1.704000e+03    1704.000000       1224.000000   \n",
       "mean   1979.50000    59.474439  2.960121e+07    7215.327081         63.709665   \n",
       "std      17.26533    12.917107  1.061579e+08    9857.454543         50.454764   \n",
       "min    1952.00000    23.599000  6.001100e+04     241.165876          2.200000   \n",
       "25%    1965.75000    48.198000  2.793664e+06    1202.060309         18.700000   \n",
       "50%    1979.50000    60.712500  7.023596e+06    3531.846988         52.550000   \n",
       "75%    1993.25000    70.845500  1.958522e+07    9325.462346        101.675000   \n",
       "max    2007.00000    82.603000  1.318683e+09  113523.132900        226.000000   \n",
       "\n",
       "         fertility  \n",
       "count  1330.000000  \n",
       "mean      4.407105  \n",
       "std       2.084137  \n",
       "min       0.920000  \n",
       "25%       2.350000  \n",
       "50%       4.500000  \n",
       "75%       6.347500  \n",
       "max       8.420000  "
      ]
     },
     "execution_count": 6,
     "metadata": {},
     "output_type": "execute_result"
    }
   ],
   "source": [
    "gapminder.describe()"
   ]
  },
  {
   "cell_type": "markdown",
   "id": "c8cb4da9",
   "metadata": {},
   "source": [
    "## Introducing data vis"
   ]
  },
  {
   "cell_type": "markdown",
   "id": "1731250f",
   "metadata": {},
   "source": [
    "The following cells introduces different plot types"
   ]
  },
  {
   "cell_type": "code",
   "execution_count": null,
   "id": "39ab5303",
   "metadata": {},
   "outputs": [],
   "source": [
    "# Line plot\n",
    "x = np.linspace(0, 0.9, 12)\n",
    "y = x**2 + (4*x -2.1)\n",
    "plt.plot(x, y);\n",
    "\n",
    "plt.xlabel(\"Some random numbers\")\n",
    "plt.ylabel(\"Function of some random numbers\")\n",
    "plt.title(\"Changes in some random numbers\")"
   ]
  },
  {
   "cell_type": "code",
   "execution_count": 15,
   "id": "f716d3ee",
   "metadata": {},
   "outputs": [],
   "source": []
  },
  {
   "cell_type": "code",
   "execution_count": 27,
   "id": "a5ba846e",
   "metadata": {},
   "outputs": [
    {
     "data": {
      "text/plain": [
       "Text(0.5, 1.0, 'Scores of students in national exam')"
      ]
     },
     "execution_count": 27,
     "metadata": {},
     "output_type": "execute_result"
    },
    {
     "data": {
      "image/png": "[encoded data removed]",
      "text/plain": [
       "<Figure size 640x480 with 1 Axes>"
      ]
     },
     "metadata": {},
     "output_type": "display_data"
    }
   ],
   "source": [
    "# Scatter plot\n",
    "x = [5, 7, 8, 7, 2, 17, 2, 9, 4, 11, 12, 9, 6] #student IDs\n",
    "y = [99, 86, 87, 88, 100, 86, 103, 87, 94, 78, 77, 85, 86] #Student scores\n",
    "plt.scatter(x,y);\n",
    "\n",
    "plt.xlabel(\"Student IDs\")\n",
    "plt.ylabel(\"Scores\")\n",
    "plt.title(\"Scores of students in national exam\")"
   ]
  },
  {
   "cell_type": "code",
   "execution_count": 31,
   "id": "66090cb1",
   "metadata": {},
   "outputs": [
    {
     "data": {
      "image/png": "[encoded data removed]",
      "text/plain": [
       "<Figure size 640x480 with 1 Axes>"
      ]
     },
     "metadata": {},
     "output_type": "display_data"
    }
   ],
   "source": [
    "\n",
    "# Bar plot\n",
    "categories = ['A', 'B', 'C', 'D']\n",
    "values = [5, 7, 3, 8]\n",
    "plt.bar(categories, values);\n",
    "\n",
    "\n",
    "plt.title('Basic Bar Plot')\n",
    "plt.xlabel('Categories')\n",
    "plt.ylabel('Values')\n",
    "plt.show()\n",
    "\n"
   ]
  },
  {
   "cell_type": "code",
   "execution_count": 32,
   "id": "f96e192b",
   "metadata": {},
   "outputs": [
    {
     "data": {
      "image/png": "[encoded data removed]",
      "text/plain": [
       "<Figure size 640x480 with 1 Axes>"
      ]
     },
     "metadata": {},
     "output_type": "display_data"
    }
   ],
   "source": [
    "\n",
    "# Histogram\n",
    "import numpy as np\n",
    "data = np.random.normal(0, 1, 100)\n",
    "plt.hist(data, bins=10)\n",
    "plt.title('Histogram')\n",
    "plt.xlabel('Value')\n",
    "plt.ylabel('Frequency')\n",
    "plt.show()"
   ]
  },
  {
   "cell_type": "code",
   "execution_count": null,
   "id": "5bf7ee6a",
   "metadata": {},
   "outputs": [],
   "source": []
  },
  {
   "cell_type": "code",
   "execution_count": 38,
   "id": "c1e62d03",
   "metadata": {},
   "outputs": [
    {
     "data": {
      "text/plain": [
       "<Figure size 640x480 with 0 Axes>"
      ]
     },
     "metadata": {},
     "output_type": "display_data"
    }
   ],
   "source": [
    "import matplotlib.pyplot as plt\n",
    "\n",
    "# Create an empty figure\n",
    "fig = plt.figure()\n",
    "\n",
    "# Display the empty figure\n",
    "plt.show()"
   ]
  },
  {
   "cell_type": "markdown",
   "id": "41300b5d",
   "metadata": {},
   "source": []
  },
  {
   "cell_type": "markdown",
   "id": "611dc5a4",
   "metadata": {},
   "source": [
    "## Scatter Plots"
   ]
  },
  {
   "cell_type": "code",
   "execution_count": 9,
   "id": "e25a71f6",
   "metadata": {},
   "outputs": [
    {
     "name": "stdout",
     "output_type": "stream",
     "text": [
      "<class 'pandas.core.frame.DataFrame'>\n",
      "RangeIndex: 1704 entries, 0 to 1703\n",
      "Data columns (total 8 columns):\n",
      " #   Column            Non-Null Count  Dtype  \n",
      "---  ------            --------------  -----  \n",
      " 0   country           1704 non-null   object \n",
      " 1   continent         1704 non-null   object \n",
      " 2   year              1704 non-null   int64  \n",
      " 3   life_exp          1704 non-null   float64\n",
      " 4   pop               1704 non-null   float64\n",
      " 5   gdp_per_cap       1704 non-null   float64\n",
      " 6   infant_mortality  1224 non-null   float64\n",
      " 7   fertility         1330 non-null   float64\n",
      "dtypes: float64(5), int64(1), object(2)\n",
      "memory usage: 106.6+ KB\n"
     ]
    }
   ],
   "source": [
    "# Gapminder data\n",
    "gapminder.info()"
   ]
  },
  {
   "cell_type": "code",
   "execution_count": 10,
   "id": "6c019dce",
   "metadata": {},
   "outputs": [
    {
     "data": {
      "text/plain": [
       "2007"
      ]
     },
     "execution_count": 10,
     "metadata": {},
     "output_type": "execute_result"
    }
   ],
   "source": [
    "# Latest date in data\n",
    "gapminder[\"year\"].max()"
   ]
  },
  {
   "cell_type": "code",
   "execution_count": 18,
   "id": "5229e0b5",
   "metadata": {},
   "outputs": [
    {
     "data": {
      "text/plain": [
       "0       1952\n",
       "1       1957\n",
       "2       1962\n",
       "3       1967\n",
       "4       1972\n",
       "        ... \n",
       "1699    1987\n",
       "1700    1992\n",
       "1701    1997\n",
       "1702    2002\n",
       "1703    2007\n",
       "Name: year, Length: 1704, dtype: int64"
      ]
     },
     "execution_count": 18,
     "metadata": {},
     "output_type": "execute_result"
    }
   ],
   "source": [
    "gapminder[\"year\"]"
   ]
  },
  {
   "cell_type": "code",
   "execution_count": 12,
   "id": "3ecf3796",
   "metadata": {},
   "outputs": [],
   "source": [
    "gapminder[\"year\"] = 2003"
   ]
  },
  {
   "cell_type": "code",
   "execution_count": 13,
   "id": "92eb74fe",
   "metadata": {},
   "outputs": [
    {
     "data": {
      "text/html": [
       "<div>\n",
       "<style scoped>\n",
       "    .dataframe tbody tr th:only-of-type {\n",
       "        vertical-align: middle;\n",
       "    }\n",
       "\n",
       "    .dataframe tbody tr th {\n",
       "        vertical-align: top;\n",
       "    }\n",
       "\n",
       "    .dataframe thead th {\n",
       "        text-align: right;\n",
       "    }\n",
       "</style>\n",
       "<table border=\"1\" class=\"dataframe\">\n",
       "  <thead>\n",
       "    <tr style=\"text-align: right;\">\n",
       "      <th></th>\n",
       "      <th>country</th>\n",
       "      <th>continent</th>\n",
       "      <th>year</th>\n",
       "      <th>life_exp</th>\n",
       "      <th>pop</th>\n",
       "      <th>gdp_per_cap</th>\n",
       "      <th>infant_mortality</th>\n",
       "      <th>fertility</th>\n",
       "    </tr>\n",
       "  </thead>\n",
       "  <tbody>\n",
       "    <tr>\n",
       "      <th>1697</th>\n",
       "      <td>Zimbabwe</td>\n",
       "      <td>Africa</td>\n",
       "      <td>2003</td>\n",
       "      <td>57.674</td>\n",
       "      <td>6642107.0</td>\n",
       "      <td>685.587682</td>\n",
       "      <td>69.8</td>\n",
       "      <td>7.33</td>\n",
       "    </tr>\n",
       "    <tr>\n",
       "      <th>373</th>\n",
       "      <td>Croatia</td>\n",
       "      <td>Europe</td>\n",
       "      <td>2003</td>\n",
       "      <td>64.770</td>\n",
       "      <td>3991242.0</td>\n",
       "      <td>4338.231617</td>\n",
       "      <td>NaN</td>\n",
       "      <td>NaN</td>\n",
       "    </tr>\n",
       "    <tr>\n",
       "      <th>169</th>\n",
       "      <td>Brazil</td>\n",
       "      <td>Americas</td>\n",
       "      <td>2003</td>\n",
       "      <td>53.285</td>\n",
       "      <td>65551171.0</td>\n",
       "      <td>2487.365989</td>\n",
       "      <td>NaN</td>\n",
       "      <td>NaN</td>\n",
       "    </tr>\n",
       "    <tr>\n",
       "      <th>506</th>\n",
       "      <td>Ethiopia</td>\n",
       "      <td>Africa</td>\n",
       "      <td>2003</td>\n",
       "      <td>40.059</td>\n",
       "      <td>25145372.0</td>\n",
       "      <td>419.456416</td>\n",
       "      <td>NaN</td>\n",
       "      <td>6.88</td>\n",
       "    </tr>\n",
       "    <tr>\n",
       "      <th>1523</th>\n",
       "      <td>Tanzania</td>\n",
       "      <td>Africa</td>\n",
       "      <td>2003</td>\n",
       "      <td>52.517</td>\n",
       "      <td>38139640.0</td>\n",
       "      <td>1107.482182</td>\n",
       "      <td>51.5</td>\n",
       "      <td>5.59</td>\n",
       "    </tr>\n",
       "  </tbody>\n",
       "</table>\n",
       "</div>"
      ],
      "text/plain": [
       "       country continent  year  life_exp         pop  gdp_per_cap  \\\n",
       "1697  Zimbabwe    Africa  2003    57.674   6642107.0   685.587682   \n",
       "373    Croatia    Europe  2003    64.770   3991242.0  4338.231617   \n",
       "169     Brazil  Americas  2003    53.285  65551171.0  2487.365989   \n",
       "506   Ethiopia    Africa  2003    40.059  25145372.0   419.456416   \n",
       "1523  Tanzania    Africa  2003    52.517  38139640.0  1107.482182   \n",
       "\n",
       "      infant_mortality  fertility  \n",
       "1697              69.8       7.33  \n",
       "373                NaN        NaN  \n",
       "169                NaN        NaN  \n",
       "506                NaN       6.88  \n",
       "1523              51.5       5.59  "
      ]
     },
     "execution_count": 13,
     "metadata": {},
     "output_type": "execute_result"
    }
   ],
   "source": [
    "gapminder.sample(5)"
   ]
  },
  {
   "cell_type": "code",
   "execution_count": 17,
   "id": "65f4976b",
   "metadata": {},
   "outputs": [
    {
     "data": {
      "text/plain": [
       "array([1952, 1957, 1962, 1967, 1972, 1977, 1982, 1987, 1992, 1997, 2002,\n",
       "       2007])"
      ]
     },
     "execution_count": 17,
     "metadata": {},
     "output_type": "execute_result"
    }
   ],
   "source": [
    "gapminder[\"year\"].unique()"
   ]
  },
  {
   "cell_type": "code",
   "execution_count": 30,
   "id": "95183fe8",
   "metadata": {},
   "outputs": [],
   "source": [
    "mask_2002 = gapminder[\"year\"] == 2002"
   ]
  },
  {
   "cell_type": "code",
   "execution_count": 31,
   "id": "5f4428a5",
   "metadata": {},
   "outputs": [
    {
     "data": {
      "text/plain": [
       "0       False\n",
       "1       False\n",
       "2       False\n",
       "3       False\n",
       "4       False\n",
       "        ...  \n",
       "1699    False\n",
       "1700    False\n",
       "1701    False\n",
       "1702     True\n",
       "1703    False\n",
       "Name: year, Length: 1704, dtype: bool"
      ]
     },
     "execution_count": 31,
     "metadata": {},
     "output_type": "execute_result"
    }
   ],
   "source": [
    "mask_2002"
   ]
  },
  {
   "cell_type": "code",
   "execution_count": 33,
   "id": "c561ab2d",
   "metadata": {},
   "outputs": [
    {
     "data": {
      "text/html": [
       "<div>\n",
       "<style scoped>\n",
       "    .dataframe tbody tr th:only-of-type {\n",
       "        vertical-align: middle;\n",
       "    }\n",
       "\n",
       "    .dataframe tbody tr th {\n",
       "        vertical-align: top;\n",
       "    }\n",
       "\n",
       "    .dataframe thead th {\n",
       "        text-align: right;\n",
       "    }\n",
       "</style>\n",
       "<table border=\"1\" class=\"dataframe\">\n",
       "  <thead>\n",
       "    <tr style=\"text-align: right;\">\n",
       "      <th></th>\n",
       "      <th>country</th>\n",
       "      <th>continent</th>\n",
       "      <th>year</th>\n",
       "      <th>life_exp</th>\n",
       "      <th>pop</th>\n",
       "      <th>gdp_per_cap</th>\n",
       "      <th>infant_mortality</th>\n",
       "      <th>fertility</th>\n",
       "    </tr>\n",
       "  </thead>\n",
       "  <tbody>\n",
       "    <tr>\n",
       "      <th>10</th>\n",
       "      <td>Afghanistan</td>\n",
       "      <td>Asia</td>\n",
       "      <td>2002</td>\n",
       "      <td>42.129</td>\n",
       "      <td>25268405.0</td>\n",
       "      <td>726.734055</td>\n",
       "      <td>NaN</td>\n",
       "      <td>NaN</td>\n",
       "    </tr>\n",
       "    <tr>\n",
       "      <th>22</th>\n",
       "      <td>Albania</td>\n",
       "      <td>Europe</td>\n",
       "      <td>2002</td>\n",
       "      <td>75.651</td>\n",
       "      <td>3508512.0</td>\n",
       "      <td>4604.211737</td>\n",
       "      <td>21.0</td>\n",
       "      <td>2.20</td>\n",
       "    </tr>\n",
       "    <tr>\n",
       "      <th>34</th>\n",
       "      <td>Algeria</td>\n",
       "      <td>Africa</td>\n",
       "      <td>2002</td>\n",
       "      <td>70.994</td>\n",
       "      <td>31287142.0</td>\n",
       "      <td>5288.040382</td>\n",
       "      <td>32.4</td>\n",
       "      <td>2.41</td>\n",
       "    </tr>\n",
       "    <tr>\n",
       "      <th>46</th>\n",
       "      <td>Angola</td>\n",
       "      <td>Africa</td>\n",
       "      <td>2002</td>\n",
       "      <td>41.003</td>\n",
       "      <td>10866106.0</td>\n",
       "      <td>2773.287312</td>\n",
       "      <td>125.5</td>\n",
       "      <td>6.78</td>\n",
       "    </tr>\n",
       "    <tr>\n",
       "      <th>58</th>\n",
       "      <td>Argentina</td>\n",
       "      <td>Americas</td>\n",
       "      <td>2002</td>\n",
       "      <td>74.340</td>\n",
       "      <td>38331121.0</td>\n",
       "      <td>8797.640716</td>\n",
       "      <td>17.1</td>\n",
       "      <td>2.38</td>\n",
       "    </tr>\n",
       "    <tr>\n",
       "      <th>...</th>\n",
       "      <td>...</td>\n",
       "      <td>...</td>\n",
       "      <td>...</td>\n",
       "      <td>...</td>\n",
       "      <td>...</td>\n",
       "      <td>...</td>\n",
       "      <td>...</td>\n",
       "      <td>...</td>\n",
       "    </tr>\n",
       "    <tr>\n",
       "      <th>1654</th>\n",
       "      <td>Vietnam</td>\n",
       "      <td>Asia</td>\n",
       "      <td>2002</td>\n",
       "      <td>73.017</td>\n",
       "      <td>80908147.0</td>\n",
       "      <td>1764.456677</td>\n",
       "      <td>24.6</td>\n",
       "      <td>1.92</td>\n",
       "    </tr>\n",
       "    <tr>\n",
       "      <th>1666</th>\n",
       "      <td>West Bank and Gaza</td>\n",
       "      <td>Asia</td>\n",
       "      <td>2002</td>\n",
       "      <td>72.370</td>\n",
       "      <td>3389578.0</td>\n",
       "      <td>4515.487575</td>\n",
       "      <td>23.6</td>\n",
       "      <td>5.10</td>\n",
       "    </tr>\n",
       "    <tr>\n",
       "      <th>1678</th>\n",
       "      <td>Yemen, Rep.</td>\n",
       "      <td>Asia</td>\n",
       "      <td>2002</td>\n",
       "      <td>60.308</td>\n",
       "      <td>18701257.0</td>\n",
       "      <td>2234.820827</td>\n",
       "      <td>NaN</td>\n",
       "      <td>NaN</td>\n",
       "    </tr>\n",
       "    <tr>\n",
       "      <th>1690</th>\n",
       "      <td>Zambia</td>\n",
       "      <td>Africa</td>\n",
       "      <td>2002</td>\n",
       "      <td>39.193</td>\n",
       "      <td>10595811.0</td>\n",
       "      <td>1071.613938</td>\n",
       "      <td>86.5</td>\n",
       "      <td>6.02</td>\n",
       "    </tr>\n",
       "    <tr>\n",
       "      <th>1702</th>\n",
       "      <td>Zimbabwe</td>\n",
       "      <td>Africa</td>\n",
       "      <td>2002</td>\n",
       "      <td>39.989</td>\n",
       "      <td>11926563.0</td>\n",
       "      <td>672.038623</td>\n",
       "      <td>62.7</td>\n",
       "      <td>4.02</td>\n",
       "    </tr>\n",
       "  </tbody>\n",
       "</table>\n",
       "<p>142 rows × 8 columns</p>\n",
       "</div>"
      ],
      "text/plain": [
       "                 country continent  year  life_exp         pop  gdp_per_cap  \\\n",
       "10           Afghanistan      Asia  2002    42.129  25268405.0   726.734055   \n",
       "22               Albania    Europe  2002    75.651   3508512.0  4604.211737   \n",
       "34               Algeria    Africa  2002    70.994  31287142.0  5288.040382   \n",
       "46                Angola    Africa  2002    41.003  10866106.0  2773.287312   \n",
       "58             Argentina  Americas  2002    74.340  38331121.0  8797.640716   \n",
       "...                  ...       ...   ...       ...         ...          ...   \n",
       "1654             Vietnam      Asia  2002    73.017  80908147.0  1764.456677   \n",
       "1666  West Bank and Gaza      Asia  2002    72.370   3389578.0  4515.487575   \n",
       "1678         Yemen, Rep.      Asia  2002    60.308  18701257.0  2234.820827   \n",
       "1690              Zambia    Africa  2002    39.193  10595811.0  1071.613938   \n",
       "1702            Zimbabwe    Africa  2002    39.989  11926563.0   672.038623   \n",
       "\n",
       "      infant_mortality  fertility  \n",
       "10                 NaN        NaN  \n",
       "22                21.0       2.20  \n",
       "34                32.4       2.41  \n",
       "46               125.5       6.78  \n",
       "58                17.1       2.38  \n",
       "...                ...        ...  \n",
       "1654              24.6       1.92  \n",
       "1666              23.6       5.10  \n",
       "1678               NaN        NaN  \n",
       "1690              86.5       6.02  \n",
       "1702              62.7       4.02  \n",
       "\n",
       "[142 rows x 8 columns]"
      ]
     },
     "execution_count": 33,
     "metadata": {},
     "output_type": "execute_result"
    }
   ],
   "source": [
    "gapminder[mask_2002]"
   ]
  },
  {
   "cell_type": "code",
   "execution_count": 21,
   "id": "36070e63",
   "metadata": {},
   "outputs": [],
   "source": [
    "\n",
    "# Extract data for 2002\n",
    "gapminder_2002 = gapminder[gapminder[\"year\"] == 2002]"
   ]
  },
  {
   "cell_type": "code",
   "execution_count": 20,
   "id": "916d8991",
   "metadata": {},
   "outputs": [
    {
     "data": {
      "text/html": [
       "<div>\n",
       "<style scoped>\n",
       "    .dataframe tbody tr th:only-of-type {\n",
       "        vertical-align: middle;\n",
       "    }\n",
       "\n",
       "    .dataframe tbody tr th {\n",
       "        vertical-align: top;\n",
       "    }\n",
       "\n",
       "    .dataframe thead th {\n",
       "        text-align: right;\n",
       "    }\n",
       "</style>\n",
       "<table border=\"1\" class=\"dataframe\">\n",
       "  <thead>\n",
       "    <tr style=\"text-align: right;\">\n",
       "      <th></th>\n",
       "      <th>country</th>\n",
       "      <th>continent</th>\n",
       "      <th>year</th>\n",
       "      <th>life_exp</th>\n",
       "      <th>pop</th>\n",
       "      <th>gdp_per_cap</th>\n",
       "      <th>infant_mortality</th>\n",
       "      <th>fertility</th>\n",
       "    </tr>\n",
       "  </thead>\n",
       "  <tbody>\n",
       "    <tr>\n",
       "      <th>10</th>\n",
       "      <td>Afghanistan</td>\n",
       "      <td>Asia</td>\n",
       "      <td>2002</td>\n",
       "      <td>42.129</td>\n",
       "      <td>25268405.0</td>\n",
       "      <td>726.734055</td>\n",
       "      <td>NaN</td>\n",
       "      <td>NaN</td>\n",
       "    </tr>\n",
       "    <tr>\n",
       "      <th>22</th>\n",
       "      <td>Albania</td>\n",
       "      <td>Europe</td>\n",
       "      <td>2002</td>\n",
       "      <td>75.651</td>\n",
       "      <td>3508512.0</td>\n",
       "      <td>4604.211737</td>\n",
       "      <td>21.0</td>\n",
       "      <td>2.20</td>\n",
       "    </tr>\n",
       "    <tr>\n",
       "      <th>34</th>\n",
       "      <td>Algeria</td>\n",
       "      <td>Africa</td>\n",
       "      <td>2002</td>\n",
       "      <td>70.994</td>\n",
       "      <td>31287142.0</td>\n",
       "      <td>5288.040382</td>\n",
       "      <td>32.4</td>\n",
       "      <td>2.41</td>\n",
       "    </tr>\n",
       "    <tr>\n",
       "      <th>46</th>\n",
       "      <td>Angola</td>\n",
       "      <td>Africa</td>\n",
       "      <td>2002</td>\n",
       "      <td>41.003</td>\n",
       "      <td>10866106.0</td>\n",
       "      <td>2773.287312</td>\n",
       "      <td>125.5</td>\n",
       "      <td>6.78</td>\n",
       "    </tr>\n",
       "    <tr>\n",
       "      <th>58</th>\n",
       "      <td>Argentina</td>\n",
       "      <td>Americas</td>\n",
       "      <td>2002</td>\n",
       "      <td>74.340</td>\n",
       "      <td>38331121.0</td>\n",
       "      <td>8797.640716</td>\n",
       "      <td>17.1</td>\n",
       "      <td>2.38</td>\n",
       "    </tr>\n",
       "  </tbody>\n",
       "</table>\n",
       "</div>"
      ],
      "text/plain": [
       "        country continent  year  life_exp         pop  gdp_per_cap  \\\n",
       "10  Afghanistan      Asia  2002    42.129  25268405.0   726.734055   \n",
       "22      Albania    Europe  2002    75.651   3508512.0  4604.211737   \n",
       "34      Algeria    Africa  2002    70.994  31287142.0  5288.040382   \n",
       "46       Angola    Africa  2002    41.003  10866106.0  2773.287312   \n",
       "58    Argentina  Americas  2002    74.340  38331121.0  8797.640716   \n",
       "\n",
       "    infant_mortality  fertility  \n",
       "10               NaN        NaN  \n",
       "22              21.0       2.20  \n",
       "34              32.4       2.41  \n",
       "46             125.5       6.78  \n",
       "58              17.1       2.38  "
      ]
     },
     "execution_count": 20,
     "metadata": {},
     "output_type": "execute_result"
    }
   ],
   "source": [
    "gapminder_2002.head()"
   ]
  },
  {
   "cell_type": "code",
   "execution_count": 28,
   "id": "38def350",
   "metadata": {},
   "outputs": [
    {
     "data": {
      "text/plain": [
       "0       False\n",
       "1       False\n",
       "2       False\n",
       "3       False\n",
       "4       False\n",
       "        ...  \n",
       "1699    False\n",
       "1700    False\n",
       "1701    False\n",
       "1702    False\n",
       "1703    False\n",
       "Name: country, Length: 1704, dtype: bool"
      ]
     },
     "execution_count": 28,
     "metadata": {},
     "output_type": "execute_result"
    }
   ],
   "source": [
    "gapminder[\"country\"] == \"Kenya\""
   ]
  },
  {
   "cell_type": "code",
   "execution_count": 34,
   "id": "b5fa38f5",
   "metadata": {},
   "outputs": [
    {
     "name": "stdout",
     "output_type": "stream",
     "text": [
      "<class 'pandas.core.frame.DataFrame'>\n",
      "Index: 12 entries, 816 to 827\n",
      "Data columns (total 8 columns):\n",
      " #   Column            Non-Null Count  Dtype  \n",
      "---  ------            --------------  -----  \n",
      " 0   country           12 non-null     object \n",
      " 1   continent         12 non-null     object \n",
      " 2   year              12 non-null     int64  \n",
      " 3   life_exp          12 non-null     float64\n",
      " 4   pop               12 non-null     float64\n",
      " 5   gdp_per_cap       12 non-null     float64\n",
      " 6   infant_mortality  10 non-null     float64\n",
      " 7   fertility         10 non-null     float64\n",
      "dtypes: float64(5), int64(1), object(2)\n",
      "memory usage: 864.0+ bytes\n"
     ]
    }
   ],
   "source": [
    "gapminder[gapminder[\"country\"] == \"Kenya\"].info()"
   ]
  },
  {
   "cell_type": "code",
   "execution_count": 35,
   "id": "7fda0439",
   "metadata": {},
   "outputs": [
    {
     "data": {
      "text/html": [
       "<div>\n",
       "<style scoped>\n",
       "    .dataframe tbody tr th:only-of-type {\n",
       "        vertical-align: middle;\n",
       "    }\n",
       "\n",
       "    .dataframe tbody tr th {\n",
       "        vertical-align: top;\n",
       "    }\n",
       "\n",
       "    .dataframe thead th {\n",
       "        text-align: right;\n",
       "    }\n",
       "</style>\n",
       "<table border=\"1\" class=\"dataframe\">\n",
       "  <thead>\n",
       "    <tr style=\"text-align: right;\">\n",
       "      <th></th>\n",
       "      <th>country</th>\n",
       "      <th>continent</th>\n",
       "      <th>year</th>\n",
       "      <th>life_exp</th>\n",
       "      <th>pop</th>\n",
       "      <th>gdp_per_cap</th>\n",
       "      <th>infant_mortality</th>\n",
       "      <th>fertility</th>\n",
       "    </tr>\n",
       "  </thead>\n",
       "  <tbody>\n",
       "    <tr>\n",
       "      <th>10</th>\n",
       "      <td>Afghanistan</td>\n",
       "      <td>Asia</td>\n",
       "      <td>2002</td>\n",
       "      <td>42.129</td>\n",
       "      <td>25268405.0</td>\n",
       "      <td>726.734055</td>\n",
       "      <td>NaN</td>\n",
       "      <td>NaN</td>\n",
       "    </tr>\n",
       "    <tr>\n",
       "      <th>22</th>\n",
       "      <td>Albania</td>\n",
       "      <td>Europe</td>\n",
       "      <td>2002</td>\n",
       "      <td>75.651</td>\n",
       "      <td>3508512.0</td>\n",
       "      <td>4604.211737</td>\n",
       "      <td>21.0</td>\n",
       "      <td>2.20</td>\n",
       "    </tr>\n",
       "    <tr>\n",
       "      <th>34</th>\n",
       "      <td>Algeria</td>\n",
       "      <td>Africa</td>\n",
       "      <td>2002</td>\n",
       "      <td>70.994</td>\n",
       "      <td>31287142.0</td>\n",
       "      <td>5288.040382</td>\n",
       "      <td>32.4</td>\n",
       "      <td>2.41</td>\n",
       "    </tr>\n",
       "    <tr>\n",
       "      <th>46</th>\n",
       "      <td>Angola</td>\n",
       "      <td>Africa</td>\n",
       "      <td>2002</td>\n",
       "      <td>41.003</td>\n",
       "      <td>10866106.0</td>\n",
       "      <td>2773.287312</td>\n",
       "      <td>125.5</td>\n",
       "      <td>6.78</td>\n",
       "    </tr>\n",
       "    <tr>\n",
       "      <th>58</th>\n",
       "      <td>Argentina</td>\n",
       "      <td>Americas</td>\n",
       "      <td>2002</td>\n",
       "      <td>74.340</td>\n",
       "      <td>38331121.0</td>\n",
       "      <td>8797.640716</td>\n",
       "      <td>17.1</td>\n",
       "      <td>2.38</td>\n",
       "    </tr>\n",
       "    <tr>\n",
       "      <th>...</th>\n",
       "      <td>...</td>\n",
       "      <td>...</td>\n",
       "      <td>...</td>\n",
       "      <td>...</td>\n",
       "      <td>...</td>\n",
       "      <td>...</td>\n",
       "      <td>...</td>\n",
       "      <td>...</td>\n",
       "    </tr>\n",
       "    <tr>\n",
       "      <th>1654</th>\n",
       "      <td>Vietnam</td>\n",
       "      <td>Asia</td>\n",
       "      <td>2002</td>\n",
       "      <td>73.017</td>\n",
       "      <td>80908147.0</td>\n",
       "      <td>1764.456677</td>\n",
       "      <td>24.6</td>\n",
       "      <td>1.92</td>\n",
       "    </tr>\n",
       "    <tr>\n",
       "      <th>1666</th>\n",
       "      <td>West Bank and Gaza</td>\n",
       "      <td>Asia</td>\n",
       "      <td>2002</td>\n",
       "      <td>72.370</td>\n",
       "      <td>3389578.0</td>\n",
       "      <td>4515.487575</td>\n",
       "      <td>23.6</td>\n",
       "      <td>5.10</td>\n",
       "    </tr>\n",
       "    <tr>\n",
       "      <th>1678</th>\n",
       "      <td>Yemen, Rep.</td>\n",
       "      <td>Asia</td>\n",
       "      <td>2002</td>\n",
       "      <td>60.308</td>\n",
       "      <td>18701257.0</td>\n",
       "      <td>2234.820827</td>\n",
       "      <td>NaN</td>\n",
       "      <td>NaN</td>\n",
       "    </tr>\n",
       "    <tr>\n",
       "      <th>1690</th>\n",
       "      <td>Zambia</td>\n",
       "      <td>Africa</td>\n",
       "      <td>2002</td>\n",
       "      <td>39.193</td>\n",
       "      <td>10595811.0</td>\n",
       "      <td>1071.613938</td>\n",
       "      <td>86.5</td>\n",
       "      <td>6.02</td>\n",
       "    </tr>\n",
       "    <tr>\n",
       "      <th>1702</th>\n",
       "      <td>Zimbabwe</td>\n",
       "      <td>Africa</td>\n",
       "      <td>2002</td>\n",
       "      <td>39.989</td>\n",
       "      <td>11926563.0</td>\n",
       "      <td>672.038623</td>\n",
       "      <td>62.7</td>\n",
       "      <td>4.02</td>\n",
       "    </tr>\n",
       "  </tbody>\n",
       "</table>\n",
       "<p>142 rows × 8 columns</p>\n",
       "</div>"
      ],
      "text/plain": [
       "                 country continent  year  life_exp         pop  gdp_per_cap  \\\n",
       "10           Afghanistan      Asia  2002    42.129  25268405.0   726.734055   \n",
       "22               Albania    Europe  2002    75.651   3508512.0  4604.211737   \n",
       "34               Algeria    Africa  2002    70.994  31287142.0  5288.040382   \n",
       "46                Angola    Africa  2002    41.003  10866106.0  2773.287312   \n",
       "58             Argentina  Americas  2002    74.340  38331121.0  8797.640716   \n",
       "...                  ...       ...   ...       ...         ...          ...   \n",
       "1654             Vietnam      Asia  2002    73.017  80908147.0  1764.456677   \n",
       "1666  West Bank and Gaza      Asia  2002    72.370   3389578.0  4515.487575   \n",
       "1678         Yemen, Rep.      Asia  2002    60.308  18701257.0  2234.820827   \n",
       "1690              Zambia    Africa  2002    39.193  10595811.0  1071.613938   \n",
       "1702            Zimbabwe    Africa  2002    39.989  11926563.0   672.038623   \n",
       "\n",
       "      infant_mortality  fertility  \n",
       "10                 NaN        NaN  \n",
       "22                21.0       2.20  \n",
       "34                32.4       2.41  \n",
       "46               125.5       6.78  \n",
       "58                17.1       2.38  \n",
       "...                ...        ...  \n",
       "1654              24.6       1.92  \n",
       "1666              23.6       5.10  \n",
       "1678               NaN        NaN  \n",
       "1690              86.5       6.02  \n",
       "1702              62.7       4.02  \n",
       "\n",
       "[142 rows x 8 columns]"
      ]
     },
     "execution_count": 35,
     "metadata": {},
     "output_type": "execute_result"
    }
   ],
   "source": [
    "gapminder_2002"
   ]
  },
  {
   "cell_type": "code",
   "execution_count": 38,
   "id": "301355f7",
   "metadata": {},
   "outputs": [
    {
     "data": {
      "text/html": [
       "<div>\n",
       "<style scoped>\n",
       "    .dataframe tbody tr th:only-of-type {\n",
       "        vertical-align: middle;\n",
       "    }\n",
       "\n",
       "    .dataframe tbody tr th {\n",
       "        vertical-align: top;\n",
       "    }\n",
       "\n",
       "    .dataframe thead th {\n",
       "        text-align: right;\n",
       "    }\n",
       "</style>\n",
       "<table border=\"1\" class=\"dataframe\">\n",
       "  <thead>\n",
       "    <tr style=\"text-align: right;\">\n",
       "      <th></th>\n",
       "      <th>country</th>\n",
       "      <th>continent</th>\n",
       "      <th>year</th>\n",
       "      <th>life_exp</th>\n",
       "      <th>pop</th>\n",
       "      <th>gdp_per_cap</th>\n",
       "      <th>infant_mortality</th>\n",
       "      <th>fertility</th>\n",
       "    </tr>\n",
       "  </thead>\n",
       "  <tbody>\n",
       "    <tr>\n",
       "      <th>1090</th>\n",
       "      <td>Netherlands</td>\n",
       "      <td>Europe</td>\n",
       "      <td>2002</td>\n",
       "      <td>78.53</td>\n",
       "      <td>16122830.0</td>\n",
       "      <td>33724.75778</td>\n",
       "      <td>4.9</td>\n",
       "      <td>1.73</td>\n",
       "    </tr>\n",
       "  </tbody>\n",
       "</table>\n",
       "</div>"
      ],
      "text/plain": [
       "          country continent  year  life_exp         pop  gdp_per_cap  \\\n",
       "1090  Netherlands    Europe  2002     78.53  16122830.0  33724.75778   \n",
       "\n",
       "      infant_mortality  fertility  \n",
       "1090               4.9       1.73  "
      ]
     },
     "execution_count": 38,
     "metadata": {},
     "output_type": "execute_result"
    }
   ],
   "source": [
    "# Extract data for multiple conditions\n",
    "gapminder[(gapminder[\"year\"] == 2002) & (gapminder[\"country\"] == \"Netherlands\")]\n"
   ]
  },
  {
   "cell_type": "code",
   "execution_count": null,
   "id": "3e890cf0",
   "metadata": {},
   "outputs": [],
   "source": []
  }
 ],
 "metadata": {
  "kernelspec": {
   "display_name": "Python 3 (ipykernel)",
   "language": "python",
   "name": "python3"
  },
  "language_info": {
   "codemirror_mode": {
    "name": "ipython",
    "version": 3
   },
   "file_extension": ".py",
   "mimetype": "text/x-python",
   "name": "python",
   "nbconvert_exporter": "python",
   "pygments_lexer": "ipython3",
   "version": "3.11.5"
  }
 },
 "nbformat": 4,
 "nbformat_minor": 5
}
